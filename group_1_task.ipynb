{
  "nbformat": 4,
  "nbformat_minor": 0,
  "metadata": {
    "colab": {
      "provenance": [],
      "include_colab_link": true
    },
    "kernelspec": {
      "name": "python3",
      "display_name": "Python 3"
    },
    "language_info": {
      "name": "python"
    }
  },
  "cells": [
    {
      "cell_type": "markdown",
      "metadata": {
        "id": "view-in-github",
        "colab_type": "text"
      },
      "source": [
        "<a href=\"https://colab.research.google.com/github/timothy-87/Group-1-Tasks/blob/main/group_1_task.ipynb\" target=\"_parent\"><img src=\"https://colab.research.google.com/assets/colab-badge.svg\" alt=\"Open In Colab\"/></a>"
      ]
    },
    {
      "cell_type": "markdown",
      "source": [],
      "metadata": {
        "id": "FS7YnKLw3E10"
      }
    },
    {
      "cell_type": "code",
      "execution_count": null,
      "metadata": {
        "colab": {
          "base_uri": "https://localhost:8080/"
        },
        "id": "qD_PBl7Yuzdi",
        "outputId": "c1494e18-01c9-4530-957c-ac311b872d3d"
      },
      "outputs": [
        {
          "output_type": "stream",
          "name": "stdout",
          "text": [
            "Men's wear\n",
            "Women's wear\n",
            "Accessories\n",
            "Shoes\n"
          ]
        }
      ],
      "source": [
        "# Categories = [\"Men's wear\",\"Women's wear\", \"Accessories\" ,'Shoes']\n",
        "\n",
        "a = \"Men's wear\"\n",
        "b = \"Women's wear\"\n",
        "c = 'Accessories'\n",
        "d = 'Shoes'\n",
        "print(a)\n",
        "print(b)\n",
        "print(c)\n",
        "print(d)"
      ]
    },
    {
      "cell_type": "code",
      "source": [
        "# Intergers\n",
        "mens_wear = int(4)\n",
        "womens_wear = int(4)\n",
        "accessories = int(4)\n",
        "shoes = int(4)\n",
        "print(mens_wear)\n",
        "print(womens_wear)\n",
        "print(accessories)\n",
        "print(shoes)\n",
        "\n"
      ],
      "metadata": {
        "colab": {
          "base_uri": "https://localhost:8080/"
        },
        "id": "-39xBiMEzHFz",
        "outputId": "458aeac1-4821-40db-dc8e-359454ad2426"
      },
      "execution_count": null,
      "outputs": [
        {
          "output_type": "stream",
          "name": "stdout",
          "text": [
            "4\n",
            "4\n",
            "4\n",
            "4\n"
          ]
        }
      ]
    },
    {
      "cell_type": "code",
      "source": [
        "# Intergers\n",
        "mens_wear = int(4)\n",
        "womens_wear = int(4)\n",
        "accessories = int(4)\n",
        "shoes = int(4)\n",
        "print(mens_wear, womens_wear, accessories, shoes)\n"
      ],
      "metadata": {
        "colab": {
          "base_uri": "https://localhost:8080/"
        },
        "id": "OgIkA_Gm3uyS",
        "outputId": "df7c7105-96b3-4fb9-edfc-deb33ea7bacd"
      },
      "execution_count": null,
      "outputs": [
        {
          "output_type": "stream",
          "name": "stdout",
          "text": [
            "4 4 4 4\n"
          ]
        }
      ]
    },
    {
      "cell_type": "code",
      "source": [
        "# strings\n",
        "mens_wear = \"Trousers, Shirts, Jackets, Tshirts\"\n",
        "womens_wear = \"Dresses, Skirts,Blouses,Trousers\"\n",
        "accessories = \"Bags, Watches, scarves, Belts\"\n",
        "shoes = \"canvas, sports, Boots , sandals\"\n",
        "# print(mens_wear, womens_wear, accessories, shoes)\n",
        "\n",
        "# print(mens_wear)\n",
        "# print(womens_wear)\n",
        "# print(accessories)\n",
        "# print(shoes)\n",
        "\n",
        "print(mens_wear)\n",
        "print(womens_wear)\n",
        "print(accessories)\n",
        "print(shoes)\n",
        "\n",
        "\n",
        "\n"
      ],
      "metadata": {
        "colab": {
          "base_uri": "https://localhost:8080/"
        },
        "id": "DjEGEwxB5Ak1",
        "outputId": "e3b4d7b0-5443-4f6f-f3d7-35e5fdeec7a9"
      },
      "execution_count": null,
      "outputs": [
        {
          "output_type": "stream",
          "name": "stdout",
          "text": [
            "Trousers, Shirts, Jackets, Tshirts\n",
            "Dresses, Skirts,Blouses,Trousers\n",
            "Bags, Watches, scarves, Belts\n",
            "canvas, sports, Boots , sandals\n"
          ]
        }
      ]
    },
    {
      "cell_type": "code",
      "source": [
        "# float\n",
        "mens_wear = float(4)\n",
        "womens_wear = float(4)\n",
        "accessories = float(4)\n",
        "shoes = float(4)\n",
        "print(mens_wear)\n",
        "print(womens_wear)\n",
        "print(accessories)\n",
        "print(shoes)\n"
      ],
      "metadata": {
        "colab": {
          "base_uri": "https://localhost:8080/"
        },
        "id": "JrByu_ra7W4W",
        "outputId": "7458cf5d-2056-4f16-db92-f0cc739e346e"
      },
      "execution_count": null,
      "outputs": [
        {
          "output_type": "stream",
          "name": "stdout",
          "text": [
            "4.0\n",
            "4.0\n",
            "4.0\n",
            "4.0\n"
          ]
        }
      ]
    },
    {
      "cell_type": "code",
      "source": [
        "# Mens wear prices\n",
        "Trousers = float(500)\n",
        "shirts = float(300)\n",
        "Jackets = float(400)\n",
        "Tshirts = float(200)\n",
        "print(Trousers, shirts, Jackets, Tshirts)\n"
      ],
      "metadata": {
        "colab": {
          "base_uri": "https://localhost:8080/"
        },
        "id": "9ZVQqfDa8lQW",
        "outputId": "c64bf614-0fe1-4a93-febb-26363a8e4145"
      },
      "execution_count": null,
      "outputs": [
        {
          "output_type": "stream",
          "name": "stdout",
          "text": [
            "500.0 300.0 400.0 200.0\n"
          ]
        }
      ]
    },
    {
      "cell_type": "code",
      "source": [
        "# Womens wear prices\n",
        "Dresses = float(300)\n",
        "Skirts = float(200)\n",
        "Blouses = float(50)\n",
        "Trousers = float(150)\n",
        "print(Dresses, Skirts, Blouses, Trousers)"
      ],
      "metadata": {
        "colab": {
          "base_uri": "https://localhost:8080/"
        },
        "id": "5xQTb2Bx-T3Y",
        "outputId": "8f2ea52f-c426-457c-9943-08b447a05579"
      },
      "execution_count": null,
      "outputs": [
        {
          "output_type": "stream",
          "name": "stdout",
          "text": [
            "300.0 200.0 50.0 150.0\n"
          ]
        }
      ]
    },
    {
      "cell_type": "code",
      "source": [
        "# Accessories prices\n",
        "Bags = float(150)\n",
        "Watches = float(50)\n",
        "scarves = float(50)\n",
        "Belts = float(30)\n",
        "print(Bags, Watches,scarves,Belts)\n"
      ],
      "metadata": {
        "colab": {
          "base_uri": "https://localhost:8080/"
        },
        "id": "wHRc2_SN-olm",
        "outputId": "4584d34d-0d91-4732-b9e1-35aab5ac70df"
      },
      "execution_count": null,
      "outputs": [
        {
          "output_type": "stream",
          "name": "stdout",
          "text": [
            "150.0 50.0 50.0 30.0\n"
          ]
        }
      ]
    },
    {
      "cell_type": "code",
      "source": [
        "# Shoes prices\n",
        "Canvas = float(100)\n",
        "Sports = float(500)\n",
        "Boots = float(300)\n",
        "Sandals = float(70)\n",
        "print(Canvas, Sports, Boots, Sandals)"
      ],
      "metadata": {
        "colab": {
          "base_uri": "https://localhost:8080/"
        },
        "id": "O9NYgBuW_QGt",
        "outputId": "33a0c383-10e0-47d3-b8a1-bdf42f7a628c"
      },
      "execution_count": null,
      "outputs": [
        {
          "output_type": "stream",
          "name": "stdout",
          "text": [
            "100.0 500.0 300.0 70.0\n"
          ]
        }
      ]
    },
    {
      "cell_type": "code",
      "source": [
        "# List\n",
        "mens_wear = [\"Trousers\", \"Shirts\", \"Jackets\", \"Tshirts\"]\n",
        "womens_wear = [\"Dresses\", \"Skirts\", \"Blouses\", \"Trousers\"]\n",
        "accessories = [\"Bags\", \"Watches\", \"scarves\", \"Belts\"]\n",
        "shoes = [\"Canvas\", \"Sports\", \"Boots\", \"Sandals\"]\n",
        "print(mens_wear)\n",
        "print(womens_wear)\n",
        "print(accessories)\n",
        "print(shoes)\n"
      ],
      "metadata": {
        "colab": {
          "base_uri": "https://localhost:8080/"
        },
        "id": "D7I0tDBS_xSD",
        "outputId": "291adb9c-ee89-4535-cda0-c65d061c6ebf"
      },
      "execution_count": null,
      "outputs": [
        {
          "output_type": "stream",
          "name": "stdout",
          "text": [
            "['Trousers', 'Shirts', 'Jackets', 'Tshirts']\n",
            "['Dresses', 'Skirts', 'Blouses', 'Trousers']\n",
            "['Bags', 'Watches', 'scarves', 'Belts']\n",
            "['Canvas', 'Sports', 'Boots', 'Sandals']\n"
          ]
        }
      ]
    },
    {
      "cell_type": "code",
      "source": [
        "# inserting into a list\n",
        "\n",
        "mens_wear = [\"Trousers\", \"Shirts\", \"Jackets\", \"Tshirts\"]\n",
        "mens_wear.insert(3, \"Jeans\")\n",
        "womens_wear = [\"Dresses\", \"Skirts\", \"Blouses\", \"Trousers\"]\n",
        "womens_wear.insert(2, \"Leggings\")\n",
        "accessories = [\"Bags\", \"Watches\", \"scarves\", \"Belts\"]\n",
        "accessories.insert(1, \"Gloves\")\n",
        "shoes = [\"Canvas\", \"Sports\", \"Boots\", \"Sandals\"]\n",
        "shoes.insert(0, \"Slippers\")\n",
        "print(mens_wear)\n",
        "print(womens_wear)\n",
        "print(accessories)\n",
        "print(shoes)"
      ],
      "metadata": {
        "id": "n7Wad7xnPsZ2",
        "colab": {
          "base_uri": "https://localhost:8080/"
        },
        "outputId": "6376e294-1954-4a13-a5ed-7806f4934f17"
      },
      "execution_count": null,
      "outputs": [
        {
          "output_type": "stream",
          "name": "stdout",
          "text": [
            "['Trousers', 'Shirts', 'Jackets', 'Jeans', 'Tshirts']\n",
            "['Dresses', 'Skirts', 'Leggings', 'Blouses', 'Trousers']\n",
            "['Bags', 'Gloves', 'Watches', 'scarves', 'Belts']\n",
            "['Slippers', 'Canvas', 'Sports', 'Boots', 'Sandals']\n"
          ]
        }
      ]
    },
    {
      "cell_type": "code",
      "source": [
        "# slice assignment\n",
        "\n",
        "mens_wear[2:3] = [\"Vests\", \"Boxers\"]\n",
        "mens_wear"
      ],
      "metadata": {
        "colab": {
          "base_uri": "https://localhost:8080/"
        },
        "id": "rI9bSaODfghs",
        "outputId": "c87bf866-2e23-4ee5-c9ed-b8a101a6c850"
      },
      "execution_count": null,
      "outputs": [
        {
          "output_type": "execute_result",
          "data": {
            "text/plain": [
              "['Trousers', 'Shirts', 'Vests', 'Boxers', 'Jeans', 'Tshirts']"
            ]
          },
          "metadata": {},
          "execution_count": 49
        }
      ]
    },
    {
      "cell_type": "code",
      "source": [
        "# List append\n",
        "mens_wear = [\"Trousers\", \"Shirts\", \"Jackets\", \"Tshirts\"]\n",
        "mens_wear.append(\"Jeans\")\n",
        "print(mens_wear)\n",
        "womens_wear = [\"Dresses\", \"Skirts\", \"Blouses\", \"Trousers\"]\n",
        "womens_wear.append(\"Leggings\")\n",
        "print(womens_wear)\n",
        "accessories = [\"Bags\", \"Watches\", \"scarves\", \"Belts\"]\n",
        "accessories.append(\"Gloves\")\n",
        "print(accessories)\n",
        "shoes = [\"Canvas\", \"Sports\", \"Boots\", \"Sandals\"]\n",
        "shoes.append(\"Slippers\")\n",
        "print(shoes)\n"
      ],
      "metadata": {
        "colab": {
          "base_uri": "https://localhost:8080/"
        },
        "id": "c7YM_ysrAcBs",
        "outputId": "e0f004cd-3bb9-4eaa-c18f-4da4cfe1e009"
      },
      "execution_count": null,
      "outputs": [
        {
          "output_type": "stream",
          "name": "stdout",
          "text": [
            "['Trousers', 'Shirts', 'Jackets', 'Tshirts', 'Jeans']\n",
            "['Dresses', 'Skirts', 'Blouses', 'Trousers', 'Leggings']\n",
            "['Bags', 'Watches', 'scarves', 'Belts', 'Gloves']\n",
            "['Canvas', 'Sports', 'Boots', 'Sandals', 'Slippers']\n"
          ]
        }
      ]
    },
    {
      "cell_type": "code",
      "source": [
        "# list extend\n",
        "\n",
        "mens_wear = [\"Trousers\", \"Shirts\", \"Jackets\", \"Tshirts\", \"Jeans\"]\n",
        "mens_wear.extend([\"Jeans\"])\n",
        "print(mens_wear)\n",
        "womens_wear = [\"Dresses\", \"Skirts\", \"Blouses\", \"Trousers\", \"Leggings\"]\n",
        "womens_wear.extend([\"Leggings\"])\n",
        "print(womens_wear)\n",
        "accessories = [\"Bags\", \"Watches\", \"scarves\", \"Belts\", \"Gloves\"]\n",
        "accessories.extend([\"Gloves\"])\n",
        "print(accessories)\n",
        "shoes = [\"Canvas\", \"Sports\", \"Boots\", \"Sandals\", \"Slippers\"]\n",
        "shoes.extend([\"Slippers\"])\n",
        "print(shoes)\n"
      ],
      "metadata": {
        "colab": {
          "base_uri": "https://localhost:8080/"
        },
        "id": "xc-98atBBGZO",
        "outputId": "37f68e38-4f25-406b-f4d7-c4b031774d59"
      },
      "execution_count": null,
      "outputs": [
        {
          "output_type": "stream",
          "name": "stdout",
          "text": [
            "['Trousers', 'Shirts', 'Jackets', 'Tshirts', 'Jeans', 'Jeans']\n",
            "['Dresses', 'Skirts', 'Blouses', 'Trousers', 'Leggings', 'Leggings']\n",
            "['Bags', 'Watches', 'scarves', 'Belts', 'Gloves', 'Gloves']\n",
            "['Canvas', 'Sports', 'Boots', 'Sandals', 'Slippers', 'Slippers']\n"
          ]
        }
      ]
    },
    {
      "cell_type": "code",
      "source": [
        "# counting number of occurences in a list\n",
        "\n",
        "mens_wear.count(\"Jeans\")"
      ],
      "metadata": {
        "colab": {
          "base_uri": "https://localhost:8080/"
        },
        "id": "8hsi14ZTnAdY",
        "outputId": "833a5057-9643-481f-c3b1-d156b0d9c105"
      },
      "execution_count": null,
      "outputs": [
        {
          "output_type": "execute_result",
          "data": {
            "text/plain": [
              "2"
            ]
          },
          "metadata": {},
          "execution_count": 61
        }
      ]
    },
    {
      "cell_type": "code",
      "source": [
        "# .remove/del/.pop/.insert and counting the number of elements in a list\n",
        "\n",
        "mens_wear = [\"Trousers\", \"Shirts\", \"Jackets\", \"Tshirts\", \"Jeans\"]\n",
        "mens_wear.remove(\"Jeans\")\n",
        "print(len(mens_wear))\n",
        "womens_wear = [\"Dresses\", \"Skirts\", \"Blouses\", \"Trousers\", \"Leggings\"]\n",
        "print(len(womens_wear))\n",
        "accessories = [\"Bags\", \"Watches\", \"scarves\", \"Belts\", \"Gloves\"]\n",
        "accessories.remove(\"Gloves\")\n",
        "accessories.pop(2)\n",
        "del accessories[-2]\n",
        "print(len(accessories))\n",
        "shoes = [\"Canvas\", \"Sports\", \"Boots\", \"Sandals\", \"Slippers\"]\n",
        "shoes.insert(3, \"Sneakers\")\n",
        "print(shoes)\n",
        "print(len(shoes))\n",
        "\n",
        "# len(mens_wear)\n",
        "# len(womens_wear)\n",
        "# len(accessories)\n",
        "# len(shoes)"
      ],
      "metadata": {
        "colab": {
          "base_uri": "https://localhost:8080/"
        },
        "id": "oqBJ0bNDnuf1",
        "outputId": "9fe00985-b1b7-4c96-9bd0-d2f9cad76421"
      },
      "execution_count": null,
      "outputs": [
        {
          "output_type": "stream",
          "name": "stdout",
          "text": [
            "4\n",
            "5\n",
            "2\n",
            "['Canvas', 'Sports', 'Boots', 'Sneakers', 'Sandals', 'Slippers']\n",
            "6\n"
          ]
        }
      ]
    },
    {
      "cell_type": "code",
      "source": [
        "# sorting a list by alphabetical\n",
        "mens_wear = [\"Trousers\", \"Shirts\", \"Jackets\", \"Tshirts\", \"Jeans\"]\n",
        "mens_wear.sort()\n",
        "print(mens_wear)"
      ],
      "metadata": {
        "colab": {
          "base_uri": "https://localhost:8080/"
        },
        "id": "szyKcmIpja42",
        "outputId": "bde7d721-66c7-44b1-e61a-1a0785f155f9"
      },
      "execution_count": null,
      "outputs": [
        {
          "output_type": "stream",
          "name": "stdout",
          "text": [
            "['Jackets', 'Jeans', 'Shirts', 'Trousers', 'Tshirts']\n"
          ]
        }
      ]
    },
    {
      "cell_type": "code",
      "source": [
        "# sorting in reverse alphabetical order - i\n",
        "\n",
        "mens_wear = [\"Trousers\", \"Shirts\", \"Jackets\", \"Tshirts\", \"Jeans\"]\n",
        "mens_wear.sort(reverse=True)\n",
        "print(\"Z-A:\", mens_wear)"
      ],
      "metadata": {
        "colab": {
          "base_uri": "https://localhost:8080/"
        },
        "id": "cD9ey4XCkClE",
        "outputId": "65308f97-0318-4653-fbe5-8d7e98e5d6fb"
      },
      "execution_count": null,
      "outputs": [
        {
          "output_type": "stream",
          "name": "stdout",
          "text": [
            "Z-A: ['Tshirts', 'Trousers', 'Shirts', 'Jeans', 'Jackets']\n"
          ]
        }
      ]
    },
    {
      "cell_type": "code",
      "source": [
        "# sorting in reverse alphabetical order - i\n",
        "\n",
        "mens_wear = [\"Trousers\", \"Shirts\", \"Jackets\", \"Tshirts\", \"Jeans\"]\n",
        "mens_wear.sort(reverse=False)\n",
        "print(\"A-Z:\", mens_wear)"
      ],
      "metadata": {
        "colab": {
          "base_uri": "https://localhost:8080/"
        },
        "id": "yeG51YtFk45F",
        "outputId": "6887a952-ad3f-4009-b34b-72b45f0efa0c"
      },
      "execution_count": null,
      "outputs": [
        {
          "output_type": "stream",
          "name": "stdout",
          "text": [
            "A-Z: ['Jackets', 'Jeans', 'Shirts', 'Trousers', 'Tshirts']\n"
          ]
        }
      ]
    },
    {
      "cell_type": "code",
      "source": [
        "# sorting the list by increasing length\n",
        "\n",
        "womens_wear = [\"Dresses\", \"Skirts\", \"Blouses\", \"Trousers\", \"Leggings\"]\n",
        "womens_wear.sort(key=len)\n",
        "print(\"by length:\", womens_wear)"
      ],
      "metadata": {
        "colab": {
          "base_uri": "https://localhost:8080/"
        },
        "id": "otC1MQBmlaqs",
        "outputId": "fbf150aa-7b7d-4395-c489-e8f0089ecb54"
      },
      "execution_count": null,
      "outputs": [
        {
          "output_type": "stream",
          "name": "stdout",
          "text": [
            "by length: ['Skirts', 'Dresses', 'Blouses', 'Trousers', 'Leggings']\n"
          ]
        }
      ]
    },
    {
      "cell_type": "code",
      "source": [
        "# sorting the list by decreasing length\n",
        "\n",
        "womens_wear = [\"Dresses\", \"Skirts\", \"Blouses\", \"Trousers\", \"Leggings\"]\n",
        "womens_wear.sort(key=len, reverse=True)\n",
        "print(womens_wear)"
      ],
      "metadata": {
        "colab": {
          "base_uri": "https://localhost:8080/"
        },
        "id": "7T8fhjyomKkr",
        "outputId": "9668755d-5e1b-4e65-eaa0-de040725060c"
      },
      "execution_count": null,
      "outputs": [
        {
          "output_type": "stream",
          "name": "stdout",
          "text": [
            "['Trousers', 'Leggings', 'Dresses', 'Blouses', 'Skirts']\n"
          ]
        }
      ]
    },
    {
      "cell_type": "code",
      "source": [
        "# counting elements in a list\n",
        "\n",
        "accessories = [\"Bags\", \"Watches\", \"scarves\", \"Belts\", \"Gloves\"]\n",
        "accessories.count(\"Gloves\")"
      ],
      "metadata": {
        "colab": {
          "base_uri": "https://localhost:8080/"
        },
        "id": "st5mJbODmohE",
        "outputId": "28d493ff-663d-4046-964c-538e5b00191c"
      },
      "execution_count": null,
      "outputs": [
        {
          "output_type": "execute_result",
          "data": {
            "text/plain": [
              "1"
            ]
          },
          "metadata": {},
          "execution_count": 59
        }
      ]
    },
    {
      "cell_type": "code",
      "source": [
        "# removing from a list\n",
        "\n",
        "accessories = [\"Bags\", \"Watches\", \"scarves\", \"Belts\", \"Gloves\"]\n",
        "accessories.remove(\"Gloves\")\n",
        "print(accessories)"
      ],
      "metadata": {
        "colab": {
          "base_uri": "https://localhost:8080/"
        },
        "id": "nUPrMeaXncRO",
        "outputId": "78ec942b-c217-423b-94a7-b3802be8c7d8"
      },
      "execution_count": null,
      "outputs": [
        {
          "output_type": "stream",
          "name": "stdout",
          "text": [
            "['Bags', 'Watches', 'scarves', 'Belts']\n"
          ]
        }
      ]
    },
    {
      "cell_type": "code",
      "source": [
        "# tuples\n",
        "\n",
        "mens_wear = (\"Trousers\", \"Shirts\", \"Jackets\", \"Tshirts\", \"Jeans\")\n",
        "\n",
        "print(mens_wear)\n",
        "womens_wear = (\"Dresses\", \"Skirts\", \"Blouses\", \"Trousers\", \"Leggings\")\n",
        "\n",
        "print(womens_wear)\n",
        "accessories = (\"Bags\", \"Watches\", \"scarves\", \"Belts\", \"Gloves\")\n",
        "\n",
        "print(accessories)\n",
        "shoes = (\"Canvas\", \"Sports\", \"Boots\", \"Sandals\", \"Slippers\")\n",
        "\n",
        "print(shoes)"
      ],
      "metadata": {
        "colab": {
          "base_uri": "https://localhost:8080/"
        },
        "id": "42eU45LXGMUm",
        "outputId": "03ea5318-b685-4466-e9d6-1b548748d3e7"
      },
      "execution_count": null,
      "outputs": [
        {
          "output_type": "stream",
          "name": "stdout",
          "text": [
            "('Trousers', 'Shirts', 'Jackets', 'Tshirts', 'Jeans')\n",
            "('Dresses', 'Skirts', 'Blouses', 'Trousers', 'Leggings')\n",
            "('Bags', 'Watches', 'scarves', 'Belts', 'Gloves')\n",
            "('Canvas', 'Sports', 'Boots', 'Sandals', 'Slippers')\n"
          ]
        }
      ]
    },
    {
      "cell_type": "code",
      "source": [
        "# set\n",
        "\n",
        "mens_wear = {\"Trousers\", \"Shirts\", \"Jackets\", \"Tshirts\", \"Jeans\"}\n",
        "print(mens_wear)\n",
        "\n",
        "womens_wear = {\"Dresses\", \"Skirts\", \"Blouses\", \"Trousers\", \"Leggings\"}\n",
        "print(womens_wear)\n",
        "\n",
        "accessories = {\"Bags\", \"Watches\", \"scarves\", \"Belts\", \"Gloves\"}\n",
        "print(accessories)\n",
        "\n",
        "shoes = {\"Canvas\", \"Sports\", \"Boots\", \"Sandals\", \"Slippers\"}\n",
        "print(shoes)\n"
      ],
      "metadata": {
        "colab": {
          "base_uri": "https://localhost:8080/"
        },
        "id": "Y9BnvgahI9iO",
        "outputId": "0c6c205c-f870-4405-c577-56e6a4b37702"
      },
      "execution_count": null,
      "outputs": [
        {
          "output_type": "stream",
          "name": "stdout",
          "text": [
            "{'Shirts', 'Tshirts', 'Jeans', 'Jackets', 'Trousers'}\n",
            "{'Dresses', 'Leggings', 'Blouses', 'Trousers', 'Skirts'}\n",
            "{'Gloves', 'scarves', 'Belts', 'Bags', 'Watches'}\n",
            "{'Canvas', 'Sandals', 'Sports', 'Slippers', 'Boots'}\n"
          ]
        }
      ]
    },
    {
      "cell_type": "code",
      "source": [
        "# Clothing_Dictionary\n",
        "\n",
        "Clothes = {\n",
        "    'mens_wear' : {\n",
        "       \"List of Items\" : [\"Trousers\", \"Shirts\", \"Jackets\", \"Tshirts\", \"Jeans\"],\n",
        "       \"Prices\" : [500, 300, 400, 200, 150]\n",
        "    },\n",
        "\n",
        "    'womens_wear' : {\n",
        "      \"List of Items\" : [\"Dresses\", \"Skirts\", \"Blouses\", \"Trousers\", \"Leggings\"],\n",
        "      \"Prices\" : [300, 200, 50, 150, 100]\n",
        "    },\n",
        "    'accessories' : {\n",
        "        \"List of Items\" : [\"Bags\", \"Watches\", \"scarves\", \"Belts\", \"Gloves\"],\n",
        "        \"Prices\" : [150, 50, 50, 30, 50]\n",
        "    },\n",
        "    'shoes' : {\n",
        "        \"List of Items\" : [\"Canvas\", \"Sports\", \"Boots\", \"Sandals\", \"Slippers\"],\n",
        "        \"Prices\" : [100, 500, 300, 70, 100]\n",
        "    }\n",
        "}\n",
        "\n",
        "Clothes"
      ],
      "metadata": {
        "colab": {
          "base_uri": "https://localhost:8080/"
        },
        "id": "NTzenrwON7i1",
        "outputId": "b1647618-a9b9-429a-86c7-b9d0967e1d2b"
      },
      "execution_count": null,
      "outputs": [
        {
          "output_type": "execute_result",
          "data": {
            "text/plain": [
              "{'mens_wear': {'List of Items': ['Trousers',\n",
              "   'Shirts',\n",
              "   'Jackets',\n",
              "   'Tshirts',\n",
              "   'Jeans'],\n",
              "  'Count': [500, 300, 400, 200, 150],\n",
              "  'Prices': [500, 300, 400, 200, 150]},\n",
              " 'womens_wear': {'List of Items': ['Dresses',\n",
              "   'Skirts',\n",
              "   'Blouses',\n",
              "   'Trousers',\n",
              "   'Leggings'],\n",
              "  'Prices': [300, 200, 50, 150, 100]},\n",
              " 'accessories': {'List of Items': ['Bags',\n",
              "   'Watches',\n",
              "   'scarves',\n",
              "   'Belts',\n",
              "   'Gloves'],\n",
              "  'Prices': [150, 50, 50, 30, 50]},\n",
              " 'shoes': {'List of Items': ['Canvas',\n",
              "   'Sports',\n",
              "   'Boots',\n",
              "   'Sandals',\n",
              "   'Slippers'],\n",
              "  'Prices': [100, 500, 300, 70, 100]}}"
            ]
          },
          "metadata": {},
          "execution_count": 4
        }
      ]
    },
    {
      "cell_type": "code",
      "source": [
        "del Clothes[\"shoes\"]\n",
        "Print(Clothes)"
      ],
      "metadata": {
        "id": "SpG2xtUJW_RI"
      },
      "execution_count": null,
      "outputs": []
    },
    {
      "cell_type": "code",
      "source": [
        "Clothes[\"accessories\"]"
      ],
      "metadata": {
        "colab": {
          "base_uri": "https://localhost:8080/"
        },
        "id": "4wkNwtw4Wun2",
        "outputId": "3c617b54-275f-4e5e-e8aa-d1f409e34c25"
      },
      "execution_count": null,
      "outputs": [
        {
          "output_type": "execute_result",
          "data": {
            "text/plain": [
              "{'List of Items': ['Bags', 'Watches', 'scarves', 'Belts', 'Gloves'],\n",
              " 'Prices': [150, 50, 50, 30, 50]}"
            ]
          },
          "metadata": {},
          "execution_count": 5
        }
      ]
    },
    {
      "cell_type": "code",
      "source": [
        "# if statements\n",
        "group = [\"Ali\", \"John\", \"Maria\", \"Rehema\"]\n",
        "name = input(\"enter your name: \")\n",
        "\n",
        "if name in group:\n",
        "  print(\"receive bale\")\n",
        "else :\n",
        "  print(\"do not receive bale\")"
      ],
      "metadata": {
        "colab": {
          "base_uri": "https://localhost:8080/"
        },
        "id": "3yfmrWWwx4hL",
        "outputId": "d946ab7e-181f-4aae-9756-6d1cc631cae6"
      },
      "execution_count": null,
      "outputs": [
        {
          "output_type": "stream",
          "name": "stdout",
          "text": [
            "enter your name: John\n",
            "receive bale\n"
          ]
        }
      ]
    },
    {
      "cell_type": "code",
      "source": [
        "# if, elif with range .a\n",
        "\n",
        "a = int(input('selling price'))\n",
        "b = int(input('customer offer'))\n",
        "\n",
        "if b > a:\n",
        "  print('sell')\n",
        "elif 300 <= b <= 400 :\n",
        "  print('bargain')\n",
        "else:\n",
        "  print('do not sell')"
      ],
      "metadata": {
        "colab": {
          "base_uri": "https://localhost:8080/"
        },
        "id": "_YXBt5Xty3-N",
        "outputId": "892d9469-99b0-4a62-860c-b7e6426a7a91"
      },
      "execution_count": null,
      "outputs": [
        {
          "output_type": "stream",
          "name": "stdout",
          "text": [
            "selling price500\n",
            "customer offer380\n",
            "bargain\n"
          ]
        }
      ]
    },
    {
      "cell_type": "code",
      "source": [
        "# if, elif with threshold .b\n",
        "\n",
        "a = int(input('selling price'))\n",
        "b = int(input('customer offer'))\n",
        "\n",
        "if b >= a:\n",
        "  print('sell')\n",
        "elif b >= (0.8*a) : #80/100\n",
        "  print('bargain')\n",
        "else:\n",
        "  print('do not sell')\n",
        "print('thank you for using our service')"
      ],
      "metadata": {
        "colab": {
          "base_uri": "https://localhost:8080/"
        },
        "id": "MvOqP-f71Lvv",
        "outputId": "9011671c-3b46-4a25-e529-34992bbef445"
      },
      "execution_count": null,
      "outputs": [
        {
          "output_type": "stream",
          "name": "stdout",
          "text": [
            "selling price500\n",
            "customer offer300\n",
            "do not sell\n",
            "thank you for using our service\n"
          ]
        }
      ]
    },
    {
      "cell_type": "code",
      "source": [
        "# if, elif with range .c\n",
        "\n",
        "SELLING_PRICE = 500\n",
        "name = input('Customer name: ')\n",
        "b = int(input('customer offer'))\n",
        "\n",
        "if b >= SELLING_PRICE:\n",
        "  print('sell')\n",
        "elif b >= (0.8*SELLING_PRICE) :\n",
        "  print('bargain')\n",
        "elif b == (0.5*SELLING_PRICE):\n",
        "  print('toboka pesa!!!!')\n",
        "else:\n",
        "  print('do not sell')\n",
        "print(f'thank you {name} for using our service')"
      ],
      "metadata": {
        "colab": {
          "base_uri": "https://localhost:8080/"
        },
        "id": "6KpHVH8Q2xCL",
        "outputId": "9289a995-4eae-4e65-8c9e-78c6201f9da9"
      },
      "execution_count": null,
      "outputs": [
        {
          "output_type": "stream",
          "name": "stdout",
          "text": [
            "Customer name: john\n",
            "customer offer200\n",
            "do not sell\n",
            "thank you john for using our service\n"
          ]
        }
      ]
    },
    {
      "cell_type": "code",
      "source": [
        "# while loop\n",
        "\n",
        "mens_wear = [\"Trousers\", \"Shirts\", \"Jackets\", \"Tshirts\"]\n",
        "stock = 100\n",
        "customer_order = 10\n",
        "\n",
        "while stock > 20:\n",
        "  print('continue selling')\n",
        "  stock -= 10\n",
        "  if stock == 20:\n",
        "    print('do not sell, restock!!')\n",
        "\n"
      ],
      "metadata": {
        "colab": {
          "base_uri": "https://localhost:8080/"
        },
        "id": "Prr6QODX8BSZ",
        "outputId": "811c5260-069b-4e9b-8ed0-6e76b49c2203"
      },
      "execution_count": null,
      "outputs": [
        {
          "output_type": "stream",
          "name": "stdout",
          "text": [
            "continue selling\n",
            "continue selling\n",
            "continue selling\n",
            "continue selling\n",
            "continue selling\n",
            "continue selling\n",
            "continue selling\n",
            "continue selling\n",
            "do not sell, restock!!\n"
          ]
        }
      ]
    },
    {
      "cell_type": "code",
      "source": [
        "'''\n",
        "define list\n",
        "input current stock\n",
        "for loop, checking stock\n",
        "output, restock or not\n",
        "'''\n",
        "\n",
        "trousers_stock = 50\n",
        "shirts_stock = 100\n",
        "jackets_stock = 80\n",
        "tshirts_stock = 300\n",
        "# mens_wear = [\"Trousers\", \"Shirts\", \"Jackets\", \"Tshirts\"]\n",
        "\n",
        "mens_wear_stock = [trousers_stock, shirts_stock, jackets_stock, tshirts_stock]\n",
        "for i in mens_wear_stock:\n",
        "  if i > 100:\n",
        "    print('do not restock')\n",
        "  else :\n",
        "    print('restock')\n",
        "\n",
        "\n"
      ],
      "metadata": {
        "colab": {
          "base_uri": "https://localhost:8080/"
        },
        "id": "_-VnxifQBLVK",
        "outputId": "3c16a880-75ee-4277-c479-629d6862dc36"
      },
      "execution_count": null,
      "outputs": [
        {
          "output_type": "stream",
          "name": "stdout",
          "text": [
            "restock\n",
            "restock\n",
            "restock\n",
            "do not restock\n"
          ]
        }
      ]
    },
    {
      "cell_type": "code",
      "source": [
        "'''\n",
        "define list\n",
        "input current stock\n",
        "for loop, checking stock\n",
        "output, restock or not\n",
        "'''\n",
        "mens_wear = [\"Trousers\", \"Shirts\", \"Jackets\", \"Tshirts\"]\n",
        "\n",
        "trousers_stock = 500\n",
        "shirts_stock = 200\n",
        "jackets_stock = 80\n",
        "tshirts_stock = 300\n",
        "\n",
        "mens_wear_stock = [trousers_stock, shirts_stock, jackets_stock, tshirts_stock]\n",
        "item_names = [\"trousers\", \"shirts\", \"jackets\", \"tshirts\"]\n",
        "for i in range(len(mens_wear_stock)):\n",
        "  if mens_wear_stock[i] > 100:\n",
        "    print(f'do not restock {item_names[i]}')\n",
        "  else :\n",
        "    print(f'restock {item_names[i]}')"
      ],
      "metadata": {
        "colab": {
          "base_uri": "https://localhost:8080/"
        },
        "id": "yduS3K1pLzcV",
        "outputId": "611db52e-0f4b-4b3a-b128-47b5c597944c"
      },
      "execution_count": null,
      "outputs": [
        {
          "output_type": "stream",
          "name": "stdout",
          "text": [
            "do not restock trousers\n",
            "do not restock shirts\n",
            "restock jackets\n",
            "do not restock tshirts\n"
          ]
        }
      ]
    },
    {
      "cell_type": "code",
      "source": [
        "'''\n",
        "define list\n",
        "input current stock\n",
        "for loop, checking stock\n",
        "output, restock or not\n",
        "'''\n",
        "\n",
        "trousers_stock = 50\n",
        "shirts_stock = 100\n",
        "jackets_stock = 80\n",
        "tshirts_stock = 300\n",
        "mens_wear = [\"Trousers\", \"Shirts\", \"Jackets\", \"Tshirts\"]\n",
        "\n",
        "mens_wear_stock = [trousers_stock, shirts_stock, jackets_stock, tshirts_stock]\n",
        "for item_name in mens_wear:\n",
        "  for i in mens_wear_stock:\n",
        "    if i > 100:\n",
        "      print(f'do not restock {item_name}')\n",
        "    else :\n",
        "      print(f'restock {item_name}')\n",
        "\n",
        "\n"
      ],
      "metadata": {
        "colab": {
          "base_uri": "https://localhost:8080/"
        },
        "id": "2A9y5dZhIuQ2",
        "outputId": "18a2c235-ed15-4a45-a38c-d5816573e4c7"
      },
      "execution_count": null,
      "outputs": [
        {
          "output_type": "stream",
          "name": "stdout",
          "text": [
            "restock Trousers\n",
            "restock Trousers\n",
            "restock Trousers\n",
            "do not restock Trousers\n",
            "restock Shirts\n",
            "restock Shirts\n",
            "restock Shirts\n",
            "do not restock Shirts\n",
            "restock Jackets\n",
            "restock Jackets\n",
            "restock Jackets\n",
            "do not restock Jackets\n",
            "restock Tshirts\n",
            "restock Tshirts\n",
            "restock Tshirts\n",
            "do not restock Tshirts\n"
          ]
        }
      ]
    },
    {
      "cell_type": "code",
      "source": [
        "trousers_stock = 50\n",
        "shirts_stock = 100\n",
        "jackets_stock = 80\n",
        "tshirts_stock = 300\n",
        "mens_wear = [\"Trousers\", \"Shirts\", \"Jackets\", \"Tshirts\"]\n",
        "\n",
        "mens_wear_stock = [trousers_stock, shirts_stock, jackets_stock, tshirts_stock]\n",
        "for i in range(len(mens_wear_stock)):\n",
        "  for j in range(len(mens_wear)):\n",
        "    if i == j:\n",
        "      if mens_wear_stock[i] > 100:\n",
        "        print(f'do not restock {mens_wear[j]}')\n",
        "    else :\n",
        "      print(f'restock {mens_wear[j]}')\n",
        "\n",
        "      # for research : nested for"
      ],
      "metadata": {
        "id": "QXGE5iX7dypD",
        "outputId": "148b5842-ab6e-4476-f80b-d5e042d42b80",
        "colab": {
          "base_uri": "https://localhost:8080/"
        }
      },
      "execution_count": null,
      "outputs": [
        {
          "output_type": "stream",
          "name": "stdout",
          "text": [
            "restock Trousers\n",
            "restock Shirts\n",
            "restock Jackets\n",
            "do not restock Tshirts\n"
          ]
        }
      ]
    },
    {
      "cell_type": "code",
      "source": [
        "\n",
        "trousers_stock = 50\n",
        "shirts_stock = 100\n",
        "jackets_stock = 80\n",
        "tshirts_stock = 300\n",
        "mens_wear = [\"Trousers\", \"Shirts\", \"Jackets\", \"Tshirts\"]\n",
        "\n",
        "mens_wear_stock = [trousers_stock, shirts_stock, jackets_stock, tshirts_stock]\n",
        "for j in range(0, len(mens_wear), 1):\n",
        " # for j in range(len(mens_wear)):\n",
        "  #  if i == j:\n",
        "      if mens_wear_stock[j] > 100:\n",
        "        print(f'do not restock {mens_wear[j]}')\n",
        "      else :\n",
        "        print(f'restock {mens_wear[j]}')\n",
        "\n",
        "\n",
        "'''\n",
        "This code is designed to pick out every 3rd item starting from the second\n",
        "tem (index 1).\n",
        "In this case, there’s only one such item: \"Shirts\".\n",
        "If your list were longer, it would continue stepping through.'''"
      ],
      "metadata": {
        "id": "5CUGkrEvnaC4",
        "outputId": "c2709139-9520-4d4a-e738-9b25ffc38a79",
        "colab": {
          "base_uri": "https://localhost:8080/",
          "height": 122
        }
      },
      "execution_count": null,
      "outputs": [
        {
          "output_type": "stream",
          "name": "stdout",
          "text": [
            "restock Trousers\n",
            "restock Shirts\n",
            "restock Jackets\n",
            "do not restock Tshirts\n"
          ]
        },
        {
          "output_type": "execute_result",
          "data": {
            "text/plain": [
              "'\\nThis code is designed to pick out every 3rd item starting from the second\\ntem (index 1).\\nIn this case, there’s only one such item: \"Shirts\". \\nIf your list were longer, it would continue stepping through.'"
            ],
            "application/vnd.google.colaboratory.intrinsic+json": {
              "type": "string"
            }
          },
          "metadata": {},
          "execution_count": 44
        }
      ]
    },
    {
      "cell_type": "code",
      "source": [
        "trousers_stock = 50\n",
        "shirts_stock = 100\n",
        "jackets_stock = 80\n",
        "tshirts_stock = 300\n",
        "\n",
        "mens_wear = [\"Trousers\", \"Shirts\", \"Jackets\", \"Tshirts\"]\n",
        "mens_wear_stock = [trousers_stock, shirts_stock, jackets_stock, tshirts_stock]\n",
        "costs = [300, 40, 800, 200]\n",
        "for item_name, stock, cost in zip(mens_wear, mens_wear_stock, costs):\n",
        "    if stock > 100:\n",
        "        print(f'do not restock {item_name}, {cost}')\n",
        "    else:\n",
        "        print(f'restock {item_name}, {cost}')"
      ],
      "metadata": {
        "id": "YhtrR2aobcX-",
        "outputId": "2eaaa49d-9ec1-4332-9709-0d3411162254",
        "colab": {
          "base_uri": "https://localhost:8080/"
        }
      },
      "execution_count": null,
      "outputs": [
        {
          "output_type": "stream",
          "name": "stdout",
          "text": [
            "restock Trousers, 300\n",
            "restock Shirts, 40\n",
            "restock Jackets, 800\n",
            "do not restock Tshirts, 200\n"
          ]
        }
      ]
    },
    {
      "cell_type": "code",
      "source": [
        "mens_wear = {\"stock\":[\"Trousers\", \"Shirts\", \"Jackets\", \"Tshirts\"],\n",
        "             \"prices\": [200, 250, 800, 70]\n",
        "}\n",
        "mens_wear\n",
        "for key, value in zip(mens_wear[\"stock\"],mens_wear[\"prices\"]):\n",
        "#  print(value)\n",
        "  if value > 100:\n",
        "    print(f'do not restock {key}, {value}')\n",
        "  else :\n",
        "    print(f'restock {key}, {value}')\n",
        "\n",
        "'''\n",
        "for key, value in mens_wear.items():\n",
        "  print(value[0])'''\n",
        "\n",
        "\n",
        "# slicing in dict, in \"for i in xyz\"\n",
        "# check out zip"
      ],
      "metadata": {
        "id": "kpUlNCEzAsPQ",
        "outputId": "129195fa-6796-4933-b9f2-84b5bd642acf",
        "colab": {
          "base_uri": "https://localhost:8080/",
          "height": 104
        }
      },
      "execution_count": null,
      "outputs": [
        {
          "output_type": "stream",
          "name": "stdout",
          "text": [
            "do not restock Trousers, 200\n",
            "do not restock Shirts, 250\n",
            "do not restock Jackets, 800\n",
            "restock Tshirts, 70\n"
          ]
        },
        {
          "output_type": "execute_result",
          "data": {
            "text/plain": [
              "'\\nfor key, value in mens_wear.items():\\n  print(value[0])'"
            ],
            "application/vnd.google.colaboratory.intrinsic+json": {
              "type": "string"
            }
          },
          "metadata": {},
          "execution_count": 37
        }
      ]
    },
    {
      "cell_type": "code",
      "source": [
        "mens_wear = {\"Trousers\" : 200,\n",
        "             \"Shirts\" : 250,\n",
        "             \"Jackets\" : 800,\n",
        "             \"Tshirts\" :70\n",
        "}\n",
        "\n",
        "for key, value in mens_wear.items():\n",
        "\n",
        "  if value > 100:\n",
        "    print(f'do not restock {key}, {value}')\n",
        "  else :\n",
        "    print(f'restock {key}, {value}')\n"
      ],
      "metadata": {
        "id": "ZurdIha6EQFN",
        "outputId": "f59a204f-f94f-4715-c826-b6a63b4bfdca",
        "colab": {
          "base_uri": "https://localhost:8080/"
        }
      },
      "execution_count": null,
      "outputs": [
        {
          "output_type": "stream",
          "name": "stdout",
          "text": [
            "do not restock Trousers, 200\n",
            "do not restock Shirts, 250\n",
            "do not restock Jackets, 800\n",
            "restock Tshirts, 70\n"
          ]
        }
      ]
    },
    {
      "cell_type": "code",
      "source": [
        "mens_wear_stock = [{trousers_stock:50}, {shirts_stock:100}, {jackets_stock:80}, {tshirts_stock:300}]\n",
        "for key, value in mens_wear_stock[1].items():\n",
        " # item_name = mens_wear[i]\n",
        "  if value > 100:\n",
        "    print('do not restock')\n",
        "  else :\n",
        "    print('restock')"
      ],
      "metadata": {
        "colab": {
          "base_uri": "https://localhost:8080/"
        },
        "id": "AMI026R9NMIA",
        "outputId": "8f25fead-dda6-4816-f9d1-7c54e3404af2"
      },
      "execution_count": null,
      "outputs": [
        {
          "output_type": "stream",
          "name": "stdout",
          "text": [
            "restock\n"
          ]
        }
      ]
    },
    {
      "cell_type": "code",
      "source": [
        "# defined function to check stock\n",
        "\n",
        "def check_stock(items, stock, orders):\n",
        "  for i in range(len(items)):\n",
        "    item = items [i]\n",
        "    item_stock = stock [i]\n",
        "    item_order = orders [i]\n",
        "\n",
        "    print(f\"\\nItem: {item}\")\n",
        "    print(f\"Stock: {item_stock}\")\n",
        "    print(f\"Customer order: {item_order}\")\n",
        "\n",
        "    remaining = item_stock - item_order\n",
        "    print(f\"Remaining: {remaining}\")\n",
        "\n",
        "    if remaining <= 20:\n",
        "      print(\"do not sell, restock!\")\n",
        "    else :\n",
        "      print(\"stock is enough\")\n",
        "\n",
        "# list of items, their stock and customer orders\n",
        "items = [\"trousers\", \"shirts\", \"jackets\", \"tshirts\"]\n",
        "stock = [50, 30, 15, 25]\n",
        "orders = [40, 5, 10, 7]\n",
        "\n",
        "# call the function\n",
        "check_stock(items, stock, orders)\n",
        "\n",
        "\n"
      ],
      "metadata": {
        "colab": {
          "base_uri": "https://localhost:8080/"
        },
        "id": "TRDaFXpB07C8",
        "outputId": "224ae12c-ab20-430a-e591-9015bc0f4556"
      },
      "execution_count": null,
      "outputs": [
        {
          "output_type": "stream",
          "name": "stdout",
          "text": [
            "\n",
            "Item: trousers\n",
            "Stock: 50\n",
            "Customer order: 40\n",
            "Remaining: 10\n",
            "do not sell, restock!\n",
            "\n",
            "Item: shirts\n",
            "Stock: 30\n",
            "Customer order: 5\n",
            "Remaining: 25\n",
            "stock is enough\n",
            "\n",
            "Item: jackets\n",
            "Stock: 15\n",
            "Customer order: 10\n",
            "Remaining: 5\n",
            "do not sell, restock!\n",
            "\n",
            "Item: tshirts\n",
            "Stock: 25\n",
            "Customer order: 7\n",
            "Remaining: 18\n",
            "do not sell, restock!\n"
          ]
        }
      ]
    },
    {
      "cell_type": "markdown",
      "source": [
        "#STATISTICAL MEASURES\n",
        "##Calculation of median, mode & mean"
      ],
      "metadata": {
        "id": "cAztDeiG2ixw"
      }
    },
    {
      "cell_type": "code",
      "source": [
        "import numpy as np\n",
        "import matplotlib.pyplot as plt\n",
        "\n",
        "#create dataset\n",
        "days = ['Monday','Tuesday','Wednesday','Thursday', 'Friday', 'Saturday', 'Sunday']\n",
        "trousers_orders = [60,40,48,30,64,64,71]\n",
        "shirts_orders = [31,50,59,67,38,71,64]\n",
        "jackets_orders = [32,49,42,46,53,50,88]\n",
        "tshirts_orders = [65,47,48,45,57,56,80]"
      ],
      "metadata": {
        "id": "dheaxE7t3Yuk"
      },
      "execution_count": 69,
      "outputs": []
    },
    {
      "cell_type": "code",
      "source": [
        "#calculation of median\n",
        "np.median(trousers_orders)\n",
        "print('median for trousers_orders:' f'{np.median(trousers_orders)} \\n')\n",
        "np.median(shirts_orders)\n",
        "print('median for shirts_orders:' f'{np.median(shirts_orders)}\\n')\n",
        "np.median(jackets_orders)\n",
        "print('median for jackets_orders:' f'{np.median(jackets_orders)}\\n')\n",
        "np.median(tshirts_orders)\n",
        "print('median for tshirts_orders:' f'{np.median(tshirts_orders)}\\n')"
      ],
      "metadata": {
        "id": "Z8_IpCuw7uCw",
        "outputId": "d70cf60f-734e-4685-b0df-9ffc51f41637",
        "colab": {
          "base_uri": "https://localhost:8080/"
        }
      },
      "execution_count": 15,
      "outputs": [
        {
          "output_type": "stream",
          "name": "stdout",
          "text": [
            "median for trousers_orders:60.0 \n",
            "\n",
            "median for shirts_orders:59.0\n",
            "\n",
            "median for jackets_orders:49.0\n",
            "\n",
            "median for tshirts_orders:56.0\n",
            "\n"
          ]
        }
      ]
    },
    {
      "cell_type": "code",
      "source": [
        "#calculation of mean\n",
        "np.mean(trousers_orders)\n",
        "print('mean for trousers_orders:'f'{np.mean(trousers_orders)}\\n')\n",
        "np.mean(shirts_orders)\n",
        "print('mean for shirts_orders:'f'{round(np.mean(shirts_orders),2)}\\n')\n",
        "np.mean(jackets_orders)\n",
        "print('mean for jacket_orders:'f'{round(np.mean(jackets_orders),2)}\\n')\n",
        "np.mean(tshirts_orders)\n",
        "print('mean for tshirts_orders:'f'{round(np.mean(tshirts_orders),2)}\\n')"
      ],
      "metadata": {
        "id": "fqU2MIcB82bI",
        "outputId": "545e6d71-e17d-4ad3-af98-4b87b2a4315b",
        "colab": {
          "base_uri": "https://localhost:8080/"
        }
      },
      "execution_count": 22,
      "outputs": [
        {
          "output_type": "stream",
          "name": "stdout",
          "text": [
            "mean for trousers_orders:53.857142857142854\n",
            "\n",
            "mean for shirts_orders:54.29\n",
            "\n",
            "mean for jacket_orders:51.43\n",
            "\n",
            "mean for tshirts_orders:56.86\n",
            "\n"
          ]
        }
      ]
    },
    {
      "cell_type": "code",
      "source": [
        "#calculation of mode\n",
        "unique_elements, counts = np.unique(trousers_orders, return_counts=True)\n",
        "mode = unique_elements[np.argmax(counts)]\n",
        "print(f\"Mode: {mode}\")\n",
        "trousers_orders = [60,40,48,30,64,64,71]"
      ],
      "metadata": {
        "id": "Z5DyohD3_8eD",
        "outputId": "0ab0e332-293f-4512-b647-631d97480884",
        "colab": {
          "base_uri": "https://localhost:8080/"
        }
      },
      "execution_count": 53,
      "outputs": [
        {
          "output_type": "stream",
          "name": "stdout",
          "text": [
            "Mode: 64\n"
          ]
        }
      ]
    },
    {
      "cell_type": "code",
      "source": [
        "unique_elements, counts = np.unique(trousers_orders, return_counts=True)\n",
        "print(unique_elements)\n",
        "print(counts)\n",
        "max = np.argmax(counts)\n",
        "print(max)\n",
        "unique_elements[4]"
      ],
      "metadata": {
        "id": "QtKLw8pAAx4t",
        "outputId": "221e0c39-1ca6-4fb0-9d15-aaf5033f4355",
        "colab": {
          "base_uri": "https://localhost:8080/"
        }
      },
      "execution_count": 54,
      "outputs": [
        {
          "output_type": "stream",
          "name": "stdout",
          "text": [
            "[30 40 48 60 64 71]\n",
            "[1 1 1 1 2 1]\n",
            "4\n"
          ]
        },
        {
          "output_type": "execute_result",
          "data": {
            "text/plain": [
              "np.int64(64)"
            ]
          },
          "metadata": {},
          "execution_count": 54
        }
      ]
    },
    {
      "cell_type": "code",
      "source": [
        "#Calculate variance\n",
        "np.var(trousers_orders)\n",
        "print(f'Variance of Trousers_orders: {np.var(trousers_orders)}\\n')\n",
        "np.var(shirts_orders)\n",
        "print(f'Variance of shirts_orders: {np.var(shirts_orders)}\\n')\n",
        "np.var(jackets_orders)\n",
        "print(f'Variance of jackets_orders: {np.var(jackets_orders)}\\n')\n",
        "np.var(tshirts_orders)\n",
        "print(f'Variance of tshirt_orders: {np.var(tshirts_orders)}\\n')"
      ],
      "metadata": {
        "id": "i11JsajDG029",
        "outputId": "54b333fc-6cab-4310-dc99-8695144d813e",
        "colab": {
          "base_uri": "https://localhost:8080/"
        }
      },
      "execution_count": 64,
      "outputs": [
        {
          "output_type": "stream",
          "name": "stdout",
          "text": [
            "Variance of Trousers_orders: 190.4081632653061\n",
            "\n",
            "Variance of shirts_orders: 197.63265306122452\n",
            "\n",
            "Variance of jackets_orders: 263.38775510204084\n",
            "\n",
            "Variance of tshirt_orders: 131.26530612244898\n",
            "\n"
          ]
        }
      ]
    },
    {
      "cell_type": "code",
      "source": [
        "#Calculation of Standard Deviation\n",
        "np.std(trousers_orders)\n",
        "print(f'Standard Deviation of Trousers_orders: {np.std(trousers_orders)}\\n')\n",
        "np.std(shirts_orders)\n",
        "print(f'Standard Deviation of shirts_orders: {np.std(shirts_orders)}\\n')\n",
        "np.std(jackets_orders)\n",
        "print(f'Standard Deviation of jackets_orders: {np.std(jackets_orders)}\\n')\n",
        "np.std(tshirts_orders)\n",
        "print(f'Standard Deviation of tshirt_orders: {np.std(tshirts_orders)}\\n')"
      ],
      "metadata": {
        "id": "FnF9ECfMMV-c",
        "outputId": "627363c5-0caa-4b2d-98ee-1087336f64e6",
        "colab": {
          "base_uri": "https://localhost:8080/"
        }
      },
      "execution_count": 65,
      "outputs": [
        {
          "output_type": "stream",
          "name": "stdout",
          "text": [
            "Standard Deviation of Trousers_orders: 13.79884644690657\n",
            "\n",
            "Standard Deviation of shirts_orders: 14.058188114448622\n",
            "\n",
            "Standard Deviation of jackets_orders: 16.22922533893842\n",
            "\n",
            "Standard Deviation of tshirt_orders: 11.457107231864812\n",
            "\n"
          ]
        }
      ]
    },
    {
      "cell_type": "code",
      "source": [
        "# Calculation of range\n",
        "np.max(trousers_orders)-np.min(trousers_orders)\n",
        "print(f'Range for trousers_orders:{np.max(trousers_orders)-np.min(trousers_orders)}')"
      ],
      "metadata": {
        "id": "IGQOqaA7NaoO",
        "outputId": "09038555-ade4-4f37-d7bd-43413376353d",
        "colab": {
          "base_uri": "https://localhost:8080/"
        }
      },
      "execution_count": 67,
      "outputs": [
        {
          "output_type": "stream",
          "name": "stdout",
          "text": [
            "Range for trousers_orders:41\n"
          ]
        }
      ]
    },
    {
      "cell_type": "code",
      "source": [
        "plt.hist(trousers_orders,edgecolor = 'yellow')\n",
        "plt.\n",
        "plt.bar()\n"
      ],
      "metadata": {
        "id": "jgVzEoN3N9Qc",
        "outputId": "ac083807-694b-4d7e-af9a-e8c7067dfa58",
        "colab": {
          "base_uri": "https://localhost:8080/",
          "height": 1000
        }
      },
      "execution_count": 71,
      "outputs": [
        {
          "output_type": "execute_result",
          "data": {
            "text/plain": [
              "<function matplotlib.pyplot.xlabel(xlabel: 'str', fontdict: 'dict[str, Any] | None' = None, labelpad: 'float | None' = None, *, loc: \"Literal['left', 'center', 'right'] | None\" = None, **kwargs) -> 'Text'>"
            ],
            "text/html": [
              "<div style=\"max-width:800px; border: 1px solid var(--colab-border-color);\"><style>\n",
              "      pre.function-repr-contents {\n",
              "        overflow-x: auto;\n",
              "        padding: 8px 12px;\n",
              "        max-height: 500px;\n",
              "      }\n",
              "\n",
              "      pre.function-repr-contents.function-repr-contents-collapsed {\n",
              "        cursor: pointer;\n",
              "        max-height: 100px;\n",
              "      }\n",
              "    </style>\n",
              "    <pre style=\"white-space: initial; background:\n",
              "         var(--colab-secondary-surface-color); padding: 8px 12px;\n",
              "         border-bottom: 1px solid var(--colab-border-color);\"><b>matplotlib.pyplot.xlabel</b><br/>def xlabel(xlabel: str, fontdict: dict[str, Any] | None=None, labelpad: float | None=None, *, loc: Literal[&#x27;left&#x27;, &#x27;center&#x27;, &#x27;right&#x27;] | None=None, **kwargs) -&gt; Text</pre><pre class=\"function-repr-contents function-repr-contents-collapsed\" style=\"\"><a class=\"filepath\" style=\"display:none\" href=\"#\">/usr/local/lib/python3.11/dist-packages/matplotlib/pyplot.py</a>Set the label for the x-axis.\n",
              "\n",
              "Parameters\n",
              "----------\n",
              "xlabel : str\n",
              "    The label text.\n",
              "\n",
              "labelpad : float, default: :rc:`axes.labelpad`\n",
              "    Spacing in points from the Axes bounding box including ticks\n",
              "    and tick labels.  If None, the previous value is left as is.\n",
              "\n",
              "loc : {&#x27;left&#x27;, &#x27;center&#x27;, &#x27;right&#x27;}, default: :rc:`xaxis.labellocation`\n",
              "    The label position. This is a high-level alternative for passing\n",
              "    parameters *x* and *horizontalalignment*.\n",
              "\n",
              "Other Parameters\n",
              "----------------\n",
              "**kwargs : `~matplotlib.text.Text` properties\n",
              "    `.Text` properties control the appearance of the label.\n",
              "\n",
              "See Also\n",
              "--------\n",
              "text : Documents the properties supported by `.Text`.\n",
              "\n",
              "Notes\n",
              "-----\n",
              "\n",
              ".. note::\n",
              "\n",
              "    This is the :ref:`pyplot wrapper &lt;pyplot_interface&gt;` for `.axes.Axes.set_xlabel`.</pre>\n",
              "      <script>\n",
              "      if (google.colab.kernel.accessAllowed && google.colab.files && google.colab.files.view) {\n",
              "        for (const element of document.querySelectorAll('.filepath')) {\n",
              "          element.style.display = 'block'\n",
              "          element.onclick = (event) => {\n",
              "            event.preventDefault();\n",
              "            event.stopPropagation();\n",
              "            google.colab.files.view(element.textContent, 4389);\n",
              "          };\n",
              "        }\n",
              "      }\n",
              "      for (const element of document.querySelectorAll('.function-repr-contents')) {\n",
              "        element.onclick = (event) => {\n",
              "          event.preventDefault();\n",
              "          event.stopPropagation();\n",
              "          element.classList.toggle('function-repr-contents-collapsed');\n",
              "        };\n",
              "      }\n",
              "      </script>\n",
              "      </div>"
            ]
          },
          "metadata": {},
          "execution_count": 71
        },
        {
          "output_type": "display_data",
          "data": {
            "text/plain": [
              "<Figure size 640x480 with 1 Axes>"
            ],
            "image/png": "[encoded data removed]"
          },
          "metadata": {}
        }
      ]
    },
    {
      "cell_type": "markdown",
      "source": [
        "\n",
        "\n",
        "```\n",
        "# This is formatted as code\n",
        "```\n",
        "\n",
        "`                                                              -----"
      ],
      "metadata": {
        "id": "4HiZtFOSIoqC"
      }
    },
    {
      "cell_type": "code",
      "source": [
        "from google.colab import drive\n",
        "drive.flush_and_unmount()"
      ],
      "metadata": {
        "colab": {
          "base_uri": "https://localhost:8080/"
        },
        "id": "czylXk0fbN2i",
        "outputId": "b3315130-3764-4d8f-ebeb-d86c4f34d932"
      },
      "execution_count": null,
      "outputs": [
        {
          "output_type": "stream",
          "name": "stdout",
          "text": [
            "Drive not mounted, so nothing to flush and unmount.\n"
          ]
        }
      ]
    },
    {
      "cell_type": "markdown",
      "source": [
        "***# Cloning your git repository to allow direct add, commit and push from colab to repository***\n",
        "\n",
        "> *follow step by step* ⛓ ☑"
      ],
      "metadata": {
        "id": "SuNr1YxD6tAV"
      }
    },
    {
      "cell_type": "markdown",
      "source": [
        "> *Step 1; Cloning your repository*"
      ],
      "metadata": {
        "id": "tzszYYwIIKWl"
      }
    },
    {
      "cell_type": "code",
      "source": [
        "# use the command '!git clone https://github.com/your-username/your-repository.git'\n",
        "\n",
        "!git clone https://github.com/timothy-87/Group-1-Tasks.git"
      ],
      "metadata": {
        "colab": {
          "base_uri": "https://localhost:8080/"
        },
        "id": "YRqagloc8hG0",
        "outputId": "220e669a-32fc-4f4b-9ac4-aebcd5862491"
      },
      "execution_count": null,
      "outputs": [
        {
          "output_type": "stream",
          "name": "stdout",
          "text": [
            "Cloning into 'Group-1-Tasks'...\n",
            "remote: Enumerating objects: 9, done.\u001b[K\n",
            "remote: Counting objects: 100% (9/9), done.\u001b[K\n",
            "remote: Compressing objects: 100% (7/7), done.\u001b[K\n",
            "remote: Total 9 (delta 2), reused 4 (delta 0), pack-reused 0 (from 0)\u001b[K\n",
            "Receiving objects: 100% (9/9), 4.77 KiB | 4.77 MiB/s, done.\n",
            "Resolving deltas: 100% (2/2), done.\n"
          ]
        }
      ]
    },
    {
      "cell_type": "markdown",
      "source": [
        "> *Step 2; Navigate into the cloned repo*"
      ],
      "metadata": {
        "id": "BrHdE2OiIVx0"
      }
    },
    {
      "cell_type": "code",
      "source": [
        "# run the command '%cd your-repository'\n",
        "\n",
        "%cd Group-1-Tasks/"
      ],
      "metadata": {
        "colab": {
          "base_uri": "https://localhost:8080/"
        },
        "id": "wPo5I-Tq9Ekx",
        "outputId": "dccd1569-69db-4b49-c627-376d3d2536f9"
      },
      "execution_count": null,
      "outputs": [
        {
          "output_type": "stream",
          "name": "stdout",
          "text": [
            "/content/Group-1-Tasks\n"
          ]
        }
      ]
    },
    {
      "cell_type": "code",
      "source": [
        "# Confirm that your notebook is saved in the repo\n",
        "# by running '!ls /content/your-repository'\n",
        "\n",
        "!ls /content/Group-1-Tasks/"
      ],
      "metadata": {
        "id": "V-6B9djQ_8S4",
        "colab": {
          "base_uri": "https://localhost:8080/"
        },
        "outputId": "290f8718-491e-414b-c485-723b0b86100e"
      },
      "execution_count": null,
      "outputs": [
        {
          "output_type": "stream",
          "name": "stdout",
          "text": [
            "gikomba_market_task.ipynb  group_1_task.ipynb  README.md\n"
          ]
        }
      ]
    },
    {
      "cell_type": "code",
      "source": [
        "# Use '!git status' command to check for modified files\n",
        "# and files to be commited.\n",
        "\n",
        "!git status"
      ],
      "metadata": {
        "id": "i0iKKkToHu_A",
        "colab": {
          "base_uri": "https://localhost:8080/"
        },
        "outputId": "989f6db0-273c-41f6-8410-74f41c0c5386"
      },
      "execution_count": null,
      "outputs": [
        {
          "output_type": "stream",
          "name": "stdout",
          "text": [
            "On branch main\n",
            "Your branch is up to date with 'origin/main'.\n",
            "\n",
            "nothing to commit, working tree clean\n"
          ]
        }
      ]
    },
    {
      "cell_type": "code",
      "source": [
        "# run the '!git add .' command to add ALL modified files,\n",
        "# or '!git add \"file_name.extension\" to add specific file\n",
        "\n",
        "!git add ."
      ],
      "metadata": {
        "id": "29pVTp329Q9y"
      },
      "execution_count": null,
      "outputs": []
    },
    {
      "cell_type": "code",
      "source": [
        "# double check to confirm desired modified files have been added\n",
        "\n",
        "!git status"
      ],
      "metadata": {
        "id": "PabzKCNv_vy_"
      },
      "execution_count": null,
      "outputs": []
    },
    {
      "cell_type": "code",
      "source": [
        "# Once confirmed, you can procced to commit,\n",
        "# then push to your repo.\n",
        "\n",
        "!git commit -m \"\""
      ],
      "metadata": {
        "id": "ZtASMnqk_0lW"
      },
      "execution_count": null,
      "outputs": []
    },
    {
      "cell_type": "code",
      "source": [
        "!git push origin main"
      ],
      "metadata": {
        "id": "7S7yYoT0EOd8"
      },
      "execution_count": null,
      "outputs": []
    }
  ]
}
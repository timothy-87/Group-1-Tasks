{
  "nbformat": 4,
  "nbformat_minor": 0,
  "metadata": {
    "colab": {
      "provenance": [],
      "include_colab_link": true
    },
    "kernelspec": {
      "name": "python3",
      "display_name": "Python 3"
    },
    "language_info": {
      "name": "python"
    }
  },
  "cells": [
    {
      "cell_type": "markdown",
      "metadata": {
        "id": "view-in-github",
        "colab_type": "text"
      },
      "source": [
        "<a href=\"https://colab.research.google.com/github/timothy-87/Group-1-Tasks/blob/main/group_1_task.ipynb\" target=\"_parent\"><img src=\"https://colab.research.google.com/assets/colab-badge.svg\" alt=\"Open In Colab\"/></a>"
      ]
    },
    {
      "cell_type": "markdown",
      "source": [],
      "metadata": {
        "id": "FS7YnKLw3E10"
      }
    },
    {
      "cell_type": "code",
      "execution_count": null,
      "metadata": {
        "colab": {
          "base_uri": "https://localhost:8080/"
        },
        "id": "qD_PBl7Yuzdi",
        "outputId": "c1494e18-01c9-4530-957c-ac311b872d3d"
      },
      "outputs": [
        {
          "output_type": "stream",
          "name": "stdout",
          "text": [
            "Men's wear\n",
            "Women's wear\n",
            "Accessories\n",
            "Shoes\n"
          ]
        }
      ],
      "source": [
        "# Categories = [\"Men's wear\",\"Women's wear\", \"Accessories\" ,'Shoes']\n",
        "\n",
        "a = \"Men's wear\"\n",
        "b = \"Women's wear\"\n",
        "c = 'Accessories'\n",
        "d = 'Shoes'\n",
        "print(a)\n",
        "print(b)\n",
        "print(c)\n",
        "print(d)"
      ]
    },
    {
      "cell_type": "code",
      "source": [
        "# Intergers\n",
        "mens_wear = int(4)\n",
        "womens_wear = int(4)\n",
        "accessories = int(4)\n",
        "shoes = int(4)\n",
        "print(mens_wear)\n",
        "print(womens_wear)\n",
        "print(accessories)\n",
        "print(shoes)\n",
        "\n"
      ],
      "metadata": {
        "colab": {
          "base_uri": "https://localhost:8080/"
        },
        "id": "-39xBiMEzHFz",
        "outputId": "458aeac1-4821-40db-dc8e-359454ad2426"
      },
      "execution_count": null,
      "outputs": [
        {
          "output_type": "stream",
          "name": "stdout",
          "text": [
            "4\n",
            "4\n",
            "4\n",
            "4\n"
          ]
        }
      ]
    },
    {
      "cell_type": "code",
      "source": [
        "# Intergers\n",
        "mens_wear = int(4)\n",
        "womens_wear = int(4)\n",
        "accessories = int(4)\n",
        "shoes = int(4)\n",
        "print(mens_wear, womens_wear, accessories, shoes)\n"
      ],
      "metadata": {
        "colab": {
          "base_uri": "https://localhost:8080/"
        },
        "id": "OgIkA_Gm3uyS",
        "outputId": "df7c7105-96b3-4fb9-edfc-deb33ea7bacd"
      },
      "execution_count": null,
      "outputs": [
        {
          "output_type": "stream",
          "name": "stdout",
          "text": [
            "4 4 4 4\n"
          ]
        }
      ]
    },
    {
      "cell_type": "code",
      "source": [
        "# strings\n",
        "mens_wear = \"Trousers, Shirts, Jackets, Tshirts\"\n",
        "womens_wear = \"Dresses, Skirts,Blouses,Trousers\"\n",
        "accessories = \"Bags, Watches, scarves, Belts\"\n",
        "shoes = \"canvas, sports, Boots , sandals\"\n",
        "# print(mens_wear, womens_wear, accessories, shoes)\n",
        "\n",
        "# print(mens_wear)\n",
        "# print(womens_wear)\n",
        "# print(accessories)\n",
        "# print(shoes)\n",
        "\n",
        "print(mens_wear)\n",
        "print(womens_wear)\n",
        "print(accessories)\n",
        "print(shoes)\n",
        "\n",
        "\n",
        "\n"
      ],
      "metadata": {
        "colab": {
          "base_uri": "https://localhost:8080/"
        },
        "id": "DjEGEwxB5Ak1",
        "outputId": "e3b4d7b0-5443-4f6f-f3d7-35e5fdeec7a9"
      },
      "execution_count": null,
      "outputs": [
        {
          "output_type": "stream",
          "name": "stdout",
          "text": [
            "Trousers, Shirts, Jackets, Tshirts\n",
            "Dresses, Skirts,Blouses,Trousers\n",
            "Bags, Watches, scarves, Belts\n",
            "canvas, sports, Boots , sandals\n"
          ]
        }
      ]
    },
    {
      "cell_type": "code",
      "source": [
        "# float\n",
        "mens_wear = float(4)\n",
        "womens_wear = float(4)\n",
        "accessories = float(4)\n",
        "shoes = float(4)\n",
        "print(mens_wear)\n",
        "print(womens_wear)\n",
        "print(accessories)\n",
        "print(shoes)\n"
      ],
      "metadata": {
        "colab": {
          "base_uri": "https://localhost:8080/"
        },
        "id": "JrByu_ra7W4W",
        "outputId": "7458cf5d-2056-4f16-db92-f0cc739e346e"
      },
      "execution_count": null,
      "outputs": [
        {
          "output_type": "stream",
          "name": "stdout",
          "text": [
            "4.0\n",
            "4.0\n",
            "4.0\n",
            "4.0\n"
          ]
        }
      ]
    },
    {
      "cell_type": "code",
      "source": [
        "# Mens wear prices\n",
        "Trousers = float(500)\n",
        "shirts = float(300)\n",
        "Jackets = float(400)\n",
        "Tshirts = float(200)\n",
        "print(Trousers, shirts, Jackets, Tshirts)\n"
      ],
      "metadata": {
        "colab": {
          "base_uri": "https://localhost:8080/"
        },
        "id": "9ZVQqfDa8lQW",
        "outputId": "c64bf614-0fe1-4a93-febb-26363a8e4145"
      },
      "execution_count": null,
      "outputs": [
        {
          "output_type": "stream",
          "name": "stdout",
          "text": [
            "500.0 300.0 400.0 200.0\n"
          ]
        }
      ]
    },
    {
      "cell_type": "code",
      "source": [
        "# Womens wear prices\n",
        "Dresses = float(300)\n",
        "Skirts = float(200)\n",
        "Blouses = float(50)\n",
        "Trousers = float(150)\n",
        "print(Dresses, Skirts, Blouses, Trousers)"
      ],
      "metadata": {
        "colab": {
          "base_uri": "https://localhost:8080/"
        },
        "id": "5xQTb2Bx-T3Y",
        "outputId": "8f2ea52f-c426-457c-9943-08b447a05579"
      },
      "execution_count": null,
      "outputs": [
        {
          "output_type": "stream",
          "name": "stdout",
          "text": [
            "300.0 200.0 50.0 150.0\n"
          ]
        }
      ]
    },
    {
      "cell_type": "code",
      "source": [
        "# Accessories prices\n",
        "Bags = float(150)\n",
        "Watches = float(50)\n",
        "scarves = float(50)\n",
        "Belts = float(30)\n",
        "print(Bags, Watches,scarves,Belts)\n"
      ],
      "metadata": {
        "colab": {
          "base_uri": "https://localhost:8080/"
        },
        "id": "wHRc2_SN-olm",
        "outputId": "4584d34d-0d91-4732-b9e1-35aab5ac70df"
      },
      "execution_count": null,
      "outputs": [
        {
          "output_type": "stream",
          "name": "stdout",
          "text": [
            "150.0 50.0 50.0 30.0\n"
          ]
        }
      ]
    },
    {
      "cell_type": "code",
      "source": [
        "# Shoes prices\n",
        "Canvas = float(100)\n",
        "Sports = float(500)\n",
        "Boots = float(300)\n",
        "Sandals = float(70)\n",
        "print(Canvas, Sports, Boots, Sandals)"
      ],
      "metadata": {
        "colab": {
          "base_uri": "https://localhost:8080/"
        },
        "id": "O9NYgBuW_QGt",
        "outputId": "33a0c383-10e0-47d3-b8a1-bdf42f7a628c"
      },
      "execution_count": null,
      "outputs": [
        {
          "output_type": "stream",
          "name": "stdout",
          "text": [
            "100.0 500.0 300.0 70.0\n"
          ]
        }
      ]
    },
    {
      "cell_type": "code",
      "source": [
        "# List\n",
        "mens_wear = [\"Trousers\", \"Shirts\", \"Jackets\", \"Tshirts\"]\n",
        "womens_wear = [\"Dresses\", \"Skirts\", \"Blouses\", \"Trousers\"]\n",
        "accessories = [\"Bags\", \"Watches\", \"scarves\", \"Belts\"]\n",
        "shoes = [\"Canvas\", \"Sports\", \"Boots\", \"Sandals\"]\n",
        "print(mens_wear)\n",
        "print(womens_wear)\n",
        "print(accessories)\n",
        "print(shoes)\n"
      ],
      "metadata": {
        "colab": {
          "base_uri": "https://localhost:8080/"
        },
        "id": "D7I0tDBS_xSD",
        "outputId": "291adb9c-ee89-4535-cda0-c65d061c6ebf"
      },
      "execution_count": null,
      "outputs": [
        {
          "output_type": "stream",
          "name": "stdout",
          "text": [
            "['Trousers', 'Shirts', 'Jackets', 'Tshirts']\n",
            "['Dresses', 'Skirts', 'Blouses', 'Trousers']\n",
            "['Bags', 'Watches', 'scarves', 'Belts']\n",
            "['Canvas', 'Sports', 'Boots', 'Sandals']\n"
          ]
        }
      ]
    },
    {
      "cell_type": "code",
      "source": [
        "# inserting into a list\n",
        "\n",
        "mens_wear = [\"Trousers\", \"Shirts\", \"Jackets\", \"Tshirts\"]\n",
        "mens_wear.insert(3, \"Jeans\")\n",
        "womens_wear = [\"Dresses\", \"Skirts\", \"Blouses\", \"Trousers\"]\n",
        "womens_wear.insert(2, \"Leggings\")\n",
        "accessories = [\"Bags\", \"Watches\", \"scarves\", \"Belts\"]\n",
        "accessories.insert(1, \"Gloves\")\n",
        "shoes = [\"Canvas\", \"Sports\", \"Boots\", \"Sandals\"]\n",
        "shoes.insert(0, \"Slippers\")\n",
        "print(mens_wear)\n",
        "print(womens_wear)\n",
        "print(accessories)\n",
        "print(shoes)"
      ],
      "metadata": {
        "id": "n7Wad7xnPsZ2",
        "colab": {
          "base_uri": "https://localhost:8080/"
        },
        "outputId": "6376e294-1954-4a13-a5ed-7806f4934f17"
      },
      "execution_count": null,
      "outputs": [
        {
          "output_type": "stream",
          "name": "stdout",
          "text": [
            "['Trousers', 'Shirts', 'Jackets', 'Jeans', 'Tshirts']\n",
            "['Dresses', 'Skirts', 'Leggings', 'Blouses', 'Trousers']\n",
            "['Bags', 'Gloves', 'Watches', 'scarves', 'Belts']\n",
            "['Slippers', 'Canvas', 'Sports', 'Boots', 'Sandals']\n"
          ]
        }
      ]
    },
    {
      "cell_type": "code",
      "source": [
        "# slice assignment\n",
        "\n",
        "mens_wear[2:3] = [\"Vests\", \"Boxers\"]\n",
        "mens_wear"
      ],
      "metadata": {
        "colab": {
          "base_uri": "https://localhost:8080/"
        },
        "id": "rI9bSaODfghs",
        "outputId": "c87bf866-2e23-4ee5-c9ed-b8a101a6c850"
      },
      "execution_count": null,
      "outputs": [
        {
          "output_type": "execute_result",
          "data": {
            "text/plain": [
              "['Trousers', 'Shirts', 'Vests', 'Boxers', 'Jeans', 'Tshirts']"
            ]
          },
          "metadata": {},
          "execution_count": 49
        }
      ]
    },
    {
      "cell_type": "code",
      "source": [
        "# List append\n",
        "mens_wear = [\"Trousers\", \"Shirts\", \"Jackets\", \"Tshirts\"]\n",
        "mens_wear.append(\"Jeans\")\n",
        "print(mens_wear)\n",
        "womens_wear = [\"Dresses\", \"Skirts\", \"Blouses\", \"Trousers\"]\n",
        "womens_wear.append(\"Leggings\")\n",
        "print(womens_wear)\n",
        "accessories = [\"Bags\", \"Watches\", \"scarves\", \"Belts\"]\n",
        "accessories.append(\"Gloves\")\n",
        "print(accessories)\n",
        "shoes = [\"Canvas\", \"Sports\", \"Boots\", \"Sandals\"]\n",
        "shoes.append(\"Slippers\")\n",
        "print(shoes)\n"
      ],
      "metadata": {
        "colab": {
          "base_uri": "https://localhost:8080/"
        },
        "id": "c7YM_ysrAcBs",
        "outputId": "e0f004cd-3bb9-4eaa-c18f-4da4cfe1e009"
      },
      "execution_count": null,
      "outputs": [
        {
          "output_type": "stream",
          "name": "stdout",
          "text": [
            "['Trousers', 'Shirts', 'Jackets', 'Tshirts', 'Jeans']\n",
            "['Dresses', 'Skirts', 'Blouses', 'Trousers', 'Leggings']\n",
            "['Bags', 'Watches', 'scarves', 'Belts', 'Gloves']\n",
            "['Canvas', 'Sports', 'Boots', 'Sandals', 'Slippers']\n"
          ]
        }
      ]
    },
    {
      "cell_type": "code",
      "source": [
        "# list extend\n",
        "\n",
        "mens_wear = [\"Trousers\", \"Shirts\", \"Jackets\", \"Tshirts\", \"Jeans\"]\n",
        "mens_wear.extend([\"Jeans\"])\n",
        "print(mens_wear)\n",
        "womens_wear = [\"Dresses\", \"Skirts\", \"Blouses\", \"Trousers\", \"Leggings\"]\n",
        "womens_wear.extend([\"Leggings\"])\n",
        "print(womens_wear)\n",
        "accessories = [\"Bags\", \"Watches\", \"scarves\", \"Belts\", \"Gloves\"]\n",
        "accessories.extend([\"Gloves\"])\n",
        "print(accessories)\n",
        "shoes = [\"Canvas\", \"Sports\", \"Boots\", \"Sandals\", \"Slippers\"]\n",
        "shoes.extend([\"Slippers\"])\n",
        "print(shoes)\n"
      ],
      "metadata": {
        "colab": {
          "base_uri": "https://localhost:8080/"
        },
        "id": "xc-98atBBGZO",
        "outputId": "37f68e38-4f25-406b-f4d7-c4b031774d59"
      },
      "execution_count": null,
      "outputs": [
        {
          "output_type": "stream",
          "name": "stdout",
          "text": [
            "['Trousers', 'Shirts', 'Jackets', 'Tshirts', 'Jeans', 'Jeans']\n",
            "['Dresses', 'Skirts', 'Blouses', 'Trousers', 'Leggings', 'Leggings']\n",
            "['Bags', 'Watches', 'scarves', 'Belts', 'Gloves', 'Gloves']\n",
            "['Canvas', 'Sports', 'Boots', 'Sandals', 'Slippers', 'Slippers']\n"
          ]
        }
      ]
    },
    {
      "cell_type": "code",
      "source": [
        "# counting number of occurences in a list\n",
        "\n",
        "mens_wear.count(\"Jeans\")"
      ],
      "metadata": {
        "colab": {
          "base_uri": "https://localhost:8080/"
        },
        "id": "8hsi14ZTnAdY",
        "outputId": "833a5057-9643-481f-c3b1-d156b0d9c105"
      },
      "execution_count": null,
      "outputs": [
        {
          "output_type": "execute_result",
          "data": {
            "text/plain": [
              "2"
            ]
          },
          "metadata": {},
          "execution_count": 61
        }
      ]
    },
    {
      "cell_type": "code",
      "source": [
        "# .remove/del/.pop/.insert and counting the number of elements in a list\n",
        "\n",
        "mens_wear = [\"Trousers\", \"Shirts\", \"Jackets\", \"Tshirts\", \"Jeans\"]\n",
        "mens_wear.remove(\"Jeans\")\n",
        "print(len(mens_wear))\n",
        "womens_wear = [\"Dresses\", \"Skirts\", \"Blouses\", \"Trousers\", \"Leggings\"]\n",
        "print(len(womens_wear))\n",
        "accessories = [\"Bags\", \"Watches\", \"scarves\", \"Belts\", \"Gloves\"]\n",
        "accessories.remove(\"Gloves\")\n",
        "accessories.pop(2)\n",
        "del accessories[-2]\n",
        "print(len(accessories))\n",
        "shoes = [\"Canvas\", \"Sports\", \"Boots\", \"Sandals\", \"Slippers\"]\n",
        "shoes.insert(3, \"Sneakers\")\n",
        "print(shoes)\n",
        "print(len(shoes))\n",
        "\n",
        "# len(mens_wear)\n",
        "# len(womens_wear)\n",
        "# len(accessories)\n",
        "# len(shoes)"
      ],
      "metadata": {
        "colab": {
          "base_uri": "https://localhost:8080/"
        },
        "id": "oqBJ0bNDnuf1",
        "outputId": "9fe00985-b1b7-4c96-9bd0-d2f9cad76421"
      },
      "execution_count": null,
      "outputs": [
        {
          "output_type": "stream",
          "name": "stdout",
          "text": [
            "4\n",
            "5\n",
            "2\n",
            "['Canvas', 'Sports', 'Boots', 'Sneakers', 'Sandals', 'Slippers']\n",
            "6\n"
          ]
        }
      ]
    },
    {
      "cell_type": "code",
      "source": [
        "# sorting a list by alphabetical\n",
        "mens_wear = [\"Trousers\", \"Shirts\", \"Jackets\", \"Tshirts\", \"Jeans\"]\n",
        "mens_wear.sort()\n",
        "print(mens_wear)"
      ],
      "metadata": {
        "colab": {
          "base_uri": "https://localhost:8080/"
        },
        "id": "szyKcmIpja42",
        "outputId": "bde7d721-66c7-44b1-e61a-1a0785f155f9"
      },
      "execution_count": null,
      "outputs": [
        {
          "output_type": "stream",
          "name": "stdout",
          "text": [
            "['Jackets', 'Jeans', 'Shirts', 'Trousers', 'Tshirts']\n"
          ]
        }
      ]
    },
    {
      "cell_type": "code",
      "source": [
        "# sorting in reverse alphabetical order - i\n",
        "\n",
        "mens_wear = [\"Trousers\", \"Shirts\", \"Jackets\", \"Tshirts\", \"Jeans\"]\n",
        "mens_wear.sort(reverse=True)\n",
        "print(\"Z-A:\", mens_wear)"
      ],
      "metadata": {
        "colab": {
          "base_uri": "https://localhost:8080/"
        },
        "id": "cD9ey4XCkClE",
        "outputId": "65308f97-0318-4653-fbe5-8d7e98e5d6fb"
      },
      "execution_count": null,
      "outputs": [
        {
          "output_type": "stream",
          "name": "stdout",
          "text": [
            "Z-A: ['Tshirts', 'Trousers', 'Shirts', 'Jeans', 'Jackets']\n"
          ]
        }
      ]
    },
    {
      "cell_type": "code",
      "source": [
        "# sorting in reverse alphabetical order - i\n",
        "\n",
        "mens_wear = [\"Trousers\", \"Shirts\", \"Jackets\", \"Tshirts\", \"Jeans\"]\n",
        "mens_wear.sort(reverse=False)\n",
        "print(\"A-Z:\", mens_wear)"
      ],
      "metadata": {
        "colab": {
          "base_uri": "https://localhost:8080/"
        },
        "id": "yeG51YtFk45F",
        "outputId": "6887a952-ad3f-4009-b34b-72b45f0efa0c"
      },
      "execution_count": null,
      "outputs": [
        {
          "output_type": "stream",
          "name": "stdout",
          "text": [
            "A-Z: ['Jackets', 'Jeans', 'Shirts', 'Trousers', 'Tshirts']\n"
          ]
        }
      ]
    },
    {
      "cell_type": "code",
      "source": [
        "# sorting the list by increasing length\n",
        "\n",
        "womens_wear = [\"Dresses\", \"Skirts\", \"Blouses\", \"Trousers\", \"Leggings\"]\n",
        "womens_wear.sort(key=len)\n",
        "print(\"by length:\", womens_wear)"
      ],
      "metadata": {
        "colab": {
          "base_uri": "https://localhost:8080/"
        },
        "id": "otC1MQBmlaqs",
        "outputId": "fbf150aa-7b7d-4395-c489-e8f0089ecb54"
      },
      "execution_count": null,
      "outputs": [
        {
          "output_type": "stream",
          "name": "stdout",
          "text": [
            "by length: ['Skirts', 'Dresses', 'Blouses', 'Trousers', 'Leggings']\n"
          ]
        }
      ]
    },
    {
      "cell_type": "code",
      "source": [
        "# sorting the list by decreasing length\n",
        "\n",
        "womens_wear = [\"Dresses\", \"Skirts\", \"Blouses\", \"Trousers\", \"Leggings\"]\n",
        "womens_wear.sort(key=len, reverse=True)\n",
        "print(womens_wear)"
      ],
      "metadata": {
        "colab": {
          "base_uri": "https://localhost:8080/"
        },
        "id": "7T8fhjyomKkr",
        "outputId": "9668755d-5e1b-4e65-eaa0-de040725060c"
      },
      "execution_count": null,
      "outputs": [
        {
          "output_type": "stream",
          "name": "stdout",
          "text": [
            "['Trousers', 'Leggings', 'Dresses', 'Blouses', 'Skirts']\n"
          ]
        }
      ]
    },
    {
      "cell_type": "code",
      "source": [
        "# counting elements in a list\n",
        "\n",
        "accessories = [\"Bags\", \"Watches\", \"scarves\", \"Belts\", \"Gloves\"]\n",
        "accessories.count(\"Gloves\")"
      ],
      "metadata": {
        "colab": {
          "base_uri": "https://localhost:8080/"
        },
        "id": "st5mJbODmohE",
        "outputId": "28d493ff-663d-4046-964c-538e5b00191c"
      },
      "execution_count": null,
      "outputs": [
        {
          "output_type": "execute_result",
          "data": {
            "text/plain": [
              "1"
            ]
          },
          "metadata": {},
          "execution_count": 59
        }
      ]
    },
    {
      "cell_type": "code",
      "source": [
        "# removing from a list\n",
        "\n",
        "accessories = [\"Bags\", \"Watches\", \"scarves\", \"Belts\", \"Gloves\"]\n",
        "accessories.remove(\"Gloves\")\n",
        "print(accessories)"
      ],
      "metadata": {
        "colab": {
          "base_uri": "https://localhost:8080/"
        },
        "id": "nUPrMeaXncRO",
        "outputId": "78ec942b-c217-423b-94a7-b3802be8c7d8"
      },
      "execution_count": null,
      "outputs": [
        {
          "output_type": "stream",
          "name": "stdout",
          "text": [
            "['Bags', 'Watches', 'scarves', 'Belts']\n"
          ]
        }
      ]
    },
    {
      "cell_type": "code",
      "source": [
        "# tuples\n",
        "\n",
        "mens_wear = (\"Trousers\", \"Shirts\", \"Jackets\", \"Tshirts\", \"Jeans\")\n",
        "\n",
        "print(mens_wear)\n",
        "womens_wear = (\"Dresses\", \"Skirts\", \"Blouses\", \"Trousers\", \"Leggings\")\n",
        "\n",
        "print(womens_wear)\n",
        "accessories = (\"Bags\", \"Watches\", \"scarves\", \"Belts\", \"Gloves\")\n",
        "\n",
        "print(accessories)\n",
        "shoes = (\"Canvas\", \"Sports\", \"Boots\", \"Sandals\", \"Slippers\")\n",
        "\n",
        "print(shoes)"
      ],
      "metadata": {
        "colab": {
          "base_uri": "https://localhost:8080/"
        },
        "id": "42eU45LXGMUm",
        "outputId": "03ea5318-b685-4466-e9d6-1b548748d3e7"
      },
      "execution_count": null,
      "outputs": [
        {
          "output_type": "stream",
          "name": "stdout",
          "text": [
            "('Trousers', 'Shirts', 'Jackets', 'Tshirts', 'Jeans')\n",
            "('Dresses', 'Skirts', 'Blouses', 'Trousers', 'Leggings')\n",
            "('Bags', 'Watches', 'scarves', 'Belts', 'Gloves')\n",
            "('Canvas', 'Sports', 'Boots', 'Sandals', 'Slippers')\n"
          ]
        }
      ]
    },
    {
      "cell_type": "code",
      "source": [
        "# set\n",
        "\n",
        "mens_wear = {\"Trousers\", \"Shirts\", \"Jackets\", \"Tshirts\", \"Jeans\"}\n",
        "print(mens_wear)\n",
        "\n",
        "womens_wear = {\"Dresses\", \"Skirts\", \"Blouses\", \"Trousers\", \"Leggings\"}\n",
        "print(womens_wear)\n",
        "\n",
        "accessories = {\"Bags\", \"Watches\", \"scarves\", \"Belts\", \"Gloves\"}\n",
        "print(accessories)\n",
        "\n",
        "shoes = {\"Canvas\", \"Sports\", \"Boots\", \"Sandals\", \"Slippers\"}\n",
        "print(shoes)\n"
      ],
      "metadata": {
        "colab": {
          "base_uri": "https://localhost:8080/"
        },
        "id": "Y9BnvgahI9iO",
        "outputId": "0c6c205c-f870-4405-c577-56e6a4b37702"
      },
      "execution_count": null,
      "outputs": [
        {
          "output_type": "stream",
          "name": "stdout",
          "text": [
            "{'Shirts', 'Tshirts', 'Jeans', 'Jackets', 'Trousers'}\n",
            "{'Dresses', 'Leggings', 'Blouses', 'Trousers', 'Skirts'}\n",
            "{'Gloves', 'scarves', 'Belts', 'Bags', 'Watches'}\n",
            "{'Canvas', 'Sandals', 'Sports', 'Slippers', 'Boots'}\n"
          ]
        }
      ]
    },
    {
      "cell_type": "code",
      "source": [
        "# Clothing_Dictionary\n",
        "\n",
        "Clothes = {\n",
        "    'mens_wear' : {\n",
        "       \"List of Items\" : [\"Trousers\", \"Shirts\", \"Jackets\", \"Tshirts\", \"Jeans\"],\n",
        "       \"Count\" : [500, 300, 400, 200, 150],\n",
        "       \"Prices\" : [500, 300, 400, 200, 150]\n",
        "    },\n",
        "\n",
        "    'womens_wear' : {\n",
        "      \"List of Items\" : [\"Dresses\", \"Skirts\", \"Blouses\", \"Trousers\", \"Leggings\"],\n",
        "      \"Prices\" : [300, 200, 50, 150, 100]\n",
        "    },\n",
        "    'accessories' : {\n",
        "        \"List of Items\" : [\"Bags\", \"Watches\", \"scarves\", \"Belts\", \"Gloves\"],\n",
        "        \"Prices\" : [150, 50, 50, 30, 50]\n",
        "    },\n",
        "    'shoes' : {\n",
        "        \"List of Items\" : [\"Canvas\", \"Sports\", \"Boots\", \"Sandals\", \"Slippers\"],\n",
        "        \"Prices\" : [100, 500, 300, 70, 100]\n",
        "    }\n",
        "}\n",
        "\n",
        "Clothes"
      ],
      "metadata": {
        "colab": {
          "base_uri": "https://localhost:8080/"
        },
        "id": "NTzenrwON7i1",
        "outputId": "b1647618-a9b9-429a-86c7-b9d0967e1d2b"
      },
      "execution_count": 4,
      "outputs": [
        {
          "output_type": "execute_result",
          "data": {
            "text/plain": [
              "{'mens_wear': {'List of Items': ['Trousers',\n",
              "   'Shirts',\n",
              "   'Jackets',\n",
              "   'Tshirts',\n",
              "   'Jeans'],\n",
              "  'Count': [500, 300, 400, 200, 150],\n",
              "  'Prices': [500, 300, 400, 200, 150]},\n",
              " 'womens_wear': {'List of Items': ['Dresses',\n",
              "   'Skirts',\n",
              "   'Blouses',\n",
              "   'Trousers',\n",
              "   'Leggings'],\n",
              "  'Prices': [300, 200, 50, 150, 100]},\n",
              " 'accessories': {'List of Items': ['Bags',\n",
              "   'Watches',\n",
              "   'scarves',\n",
              "   'Belts',\n",
              "   'Gloves'],\n",
              "  'Prices': [150, 50, 50, 30, 50]},\n",
              " 'shoes': {'List of Items': ['Canvas',\n",
              "   'Sports',\n",
              "   'Boots',\n",
              "   'Sandals',\n",
              "   'Slippers'],\n",
              "  'Prices': [100, 500, 300, 70, 100]}}"
            ]
          },
          "metadata": {},
          "execution_count": 4
        }
      ]
    },
    {
      "cell_type": "code",
      "source": [
        "del Clothes[\"shoes\"]\n",
        "Print(Clothes)"
      ],
      "metadata": {
        "id": "SpG2xtUJW_RI"
      },
      "execution_count": null,
      "outputs": []
    },
    {
      "cell_type": "code",
      "source": [
        "Clothes[\"accessories\"]"
      ],
      "metadata": {
        "colab": {
          "base_uri": "https://localhost:8080/"
        },
        "id": "4wkNwtw4Wun2",
        "outputId": "3c617b54-275f-4e5e-e8aa-d1f409e34c25"
      },
      "execution_count": 5,
      "outputs": [
        {
          "output_type": "execute_result",
          "data": {
            "text/plain": [
              "{'List of Items': ['Bags', 'Watches', 'scarves', 'Belts', 'Gloves'],\n",
              " 'Prices': [150, 50, 50, 30, 50]}"
            ]
          },
          "metadata": {},
          "execution_count": 5
        }
      ]
    },
    {
      "cell_type": "markdown",
      "source": [
        "                                                              -----"
      ],
      "metadata": {
        "id": "4HiZtFOSIoqC"
      }
    },
    {
      "cell_type": "code",
      "source": [
        "from google.colab import drive\n",
        "drive.flush_and_unmount()"
      ],
      "metadata": {
        "colab": {
          "base_uri": "https://localhost:8080/"
        },
        "id": "czylXk0fbN2i",
        "outputId": "b3315130-3764-4d8f-ebeb-d86c4f34d932"
      },
      "execution_count": 18,
      "outputs": [
        {
          "output_type": "stream",
          "name": "stdout",
          "text": [
            "Drive not mounted, so nothing to flush and unmount.\n"
          ]
        }
      ]
    },
    {
      "cell_type": "markdown",
      "source": [
        "***# Cloning your git repository to allow direct add, commit and push from colab to repository***\n",
        "\n",
        "> *follow step by step* ⛓ ☑"
      ],
      "metadata": {
        "id": "SuNr1YxD6tAV"
      }
    },
    {
      "cell_type": "markdown",
      "source": [
        "> *Step 1; Cloning your repository*"
      ],
      "metadata": {
        "id": "tzszYYwIIKWl"
      }
    },
    {
      "cell_type": "code",
      "source": [
        "# use the command '!git clone https://github.com/your-username/your-repository.git'\n",
        "\n",
        "!git clone https://github.com/timothy-87/Group-1-Tasks.git"
      ],
      "metadata": {
        "colab": {
          "base_uri": "https://localhost:8080/"
        },
        "id": "YRqagloc8hG0",
        "outputId": "220e669a-32fc-4f4b-9ac4-aebcd5862491"
      },
      "execution_count": 12,
      "outputs": [
        {
          "output_type": "stream",
          "name": "stdout",
          "text": [
            "Cloning into 'Group-1-Tasks'...\n",
            "remote: Enumerating objects: 9, done.\u001b[K\n",
            "remote: Counting objects: 100% (9/9), done.\u001b[K\n",
            "remote: Compressing objects: 100% (7/7), done.\u001b[K\n",
            "remote: Total 9 (delta 2), reused 4 (delta 0), pack-reused 0 (from 0)\u001b[K\n",
            "Receiving objects: 100% (9/9), 4.77 KiB | 4.77 MiB/s, done.\n",
            "Resolving deltas: 100% (2/2), done.\n"
          ]
        }
      ]
    },
    {
      "cell_type": "markdown",
      "source": [
        "> *Step 2; Navigate into the cloned repo*"
      ],
      "metadata": {
        "id": "BrHdE2OiIVx0"
      }
    },
    {
      "cell_type": "code",
      "source": [
        "# run the command '%cd your-repository'\n",
        "\n",
        "%cd Group-1-Tasks/"
      ],
      "metadata": {
        "colab": {
          "base_uri": "https://localhost:8080/"
        },
        "id": "wPo5I-Tq9Ekx",
        "outputId": "dccd1569-69db-4b49-c627-376d3d2536f9"
      },
      "execution_count": 13,
      "outputs": [
        {
          "output_type": "stream",
          "name": "stdout",
          "text": [
            "/content/Group-1-Tasks\n"
          ]
        }
      ]
    },
    {
      "cell_type": "code",
      "source": [
        "# Confirm that your notebook is saved in the repo\n",
        "# by running '!ls /content/your-repository'\n",
        "\n",
        "!ls /content/Group-1-Tasks/"
      ],
      "metadata": {
        "id": "V-6B9djQ_8S4",
        "colab": {
          "base_uri": "https://localhost:8080/"
        },
        "outputId": "290f8718-491e-414b-c485-723b0b86100e"
      },
      "execution_count": 15,
      "outputs": [
        {
          "output_type": "stream",
          "name": "stdout",
          "text": [
            "gikomba_market_task.ipynb  group_1_task.ipynb  README.md\n"
          ]
        }
      ]
    },
    {
      "cell_type": "code",
      "source": [
        "# Use '!git status' command to check for modified files\n",
        "# and files to be commited.\n",
        "\n",
        "!git status"
      ],
      "metadata": {
        "id": "i0iKKkToHu_A",
        "colab": {
          "base_uri": "https://localhost:8080/"
        },
        "outputId": "989f6db0-273c-41f6-8410-74f41c0c5386"
      },
      "execution_count": 17,
      "outputs": [
        {
          "output_type": "stream",
          "name": "stdout",
          "text": [
            "On branch main\n",
            "Your branch is up to date with 'origin/main'.\n",
            "\n",
            "nothing to commit, working tree clean\n"
          ]
        }
      ]
    },
    {
      "cell_type": "code",
      "source": [
        "# run the '!git add .' command to add ALL modified files,\n",
        "# or '!git add \"file_name.extension\" to add specific file\n",
        "\n",
        "!git add ."
      ],
      "metadata": {
        "id": "29pVTp329Q9y"
      },
      "execution_count": null,
      "outputs": []
    },
    {
      "cell_type": "code",
      "source": [
        "# double check to confirm desired modified files have been added\n",
        "\n",
        "!git status"
      ],
      "metadata": {
        "id": "PabzKCNv_vy_"
      },
      "execution_count": null,
      "outputs": []
    },
    {
      "cell_type": "code",
      "source": [
        "# Once confirmed, you can procced to commit,\n",
        "# then push to your repo.\n",
        "\n",
        "!git commit -m \"\""
      ],
      "metadata": {
        "id": "ZtASMnqk_0lW"
      },
      "execution_count": null,
      "outputs": []
    },
    {
      "cell_type": "code",
      "source": [
        "!git push origin main"
      ],
      "metadata": {
        "id": "7S7yYoT0EOd8"
      },
      "execution_count": null,
      "outputs": []
    }
  ]
}